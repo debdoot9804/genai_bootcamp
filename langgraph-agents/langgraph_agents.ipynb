{
 "cells": [
  {
   "cell_type": "code",
   "execution_count": 1,
   "id": "e85f8c6e",
   "metadata": {},
   "outputs": [
    {
     "name": "stdout",
     "output_type": "stream",
     "text": [
      "ok\n"
     ]
    }
   ],
   "source": [
    "print(\"ok\")"
   ]
  },
  {
   "cell_type": "code",
   "execution_count": 126,
   "id": "478f35ba",
   "metadata": {},
   "outputs": [],
   "source": [
    "from langchain_openai import ChatOpenAI"
   ]
  },
  {
   "cell_type": "code",
   "execution_count": 127,
   "id": "d4f6e774",
   "metadata": {},
   "outputs": [],
   "source": [
    "from dotenv import load_dotenv"
   ]
  },
  {
   "cell_type": "code",
   "execution_count": 128,
   "id": "31e4cea3",
   "metadata": {},
   "outputs": [
    {
     "data": {
      "text/plain": [
       "True"
      ]
     },
     "execution_count": 128,
     "metadata": {},
     "output_type": "execute_result"
    }
   ],
   "source": [
    "load_dotenv()"
   ]
  },
  {
   "cell_type": "code",
   "execution_count": 129,
   "id": "0fd3bd4a",
   "metadata": {},
   "outputs": [],
   "source": [
    "import os\n",
    "OPENAI_API_KEY=os.getenv(\"OPENAI_API_KEY\")"
   ]
  },
  {
   "cell_type": "code",
   "execution_count": 130,
   "id": "e403ceb6",
   "metadata": {},
   "outputs": [],
   "source": [
    "os.environ[\"OPENAI_API_KEY\"]=OPENAI_API_KEY"
   ]
  },
  {
   "cell_type": "code",
   "execution_count": 131,
   "id": "856994ba",
   "metadata": {},
   "outputs": [],
   "source": [
    "openai_model=ChatOpenAI(model=\"gpt-4o\")"
   ]
  },
  {
   "cell_type": "code",
   "execution_count": 132,
   "id": "c175070d",
   "metadata": {},
   "outputs": [
    {
     "data": {
      "text/plain": [
       "AIMessage(content='Hello! How can I assist you today?', additional_kwargs={'refusal': None}, response_metadata={'token_usage': {'completion_tokens': 10, 'prompt_tokens': 8, 'total_tokens': 18, 'completion_tokens_details': {'accepted_prediction_tokens': 0, 'audio_tokens': 0, 'reasoning_tokens': 0, 'rejected_prediction_tokens': 0}, 'prompt_tokens_details': {'audio_tokens': 0, 'cached_tokens': 0}}, 'model_name': 'gpt-4o-2024-08-06', 'system_fingerprint': 'fp_432e014d75', 'finish_reason': 'stop', 'logprobs': None}, id='run-0d0f278c-4009-4227-baff-4f30bb93cb18-0', usage_metadata={'input_tokens': 8, 'output_tokens': 10, 'total_tokens': 18, 'input_token_details': {'audio': 0, 'cache_read': 0}, 'output_token_details': {'audio': 0, 'reasoning': 0}})"
      ]
     },
     "execution_count": 132,
     "metadata": {},
     "output_type": "execute_result"
    }
   ],
   "source": [
    "openai_model.invoke(\"hi\")"
   ]
  },
  {
   "cell_type": "code",
   "execution_count": 9,
   "id": "76abd31a",
   "metadata": {},
   "outputs": [
    {
     "data": {
      "text/plain": [
       "'Hello! How can I assist you today?'"
      ]
     },
     "execution_count": 9,
     "metadata": {},
     "output_type": "execute_result"
    }
   ],
   "source": [
    "openai_model.invoke(\"hi\").content"
   ]
  },
  {
   "cell_type": "code",
   "execution_count": 10,
   "id": "bb8831a3",
   "metadata": {},
   "outputs": [],
   "source": [
    "from langgraph.graph import StateGraph,MessagesState, START, END\n",
    "from langgraph.graph.message import add_messages\n",
    "from typing import Annotated, Literal, TypedDict\n",
    "from langchain_core.tools import tool\n",
    "from langchain_core.messages import HumanMessage\n",
    "from langgraph.checkpoint.memory import MemorySaver\n",
    "from langgraph.prebuilt import ToolNode"
   ]
  },
  {
   "cell_type": "code",
   "execution_count": 15,
   "id": "4d63ba09",
   "metadata": {},
   "outputs": [],
   "source": [
    "state={}"
   ]
  },
  {
   "cell_type": "code",
   "execution_count": 16,
   "id": "e96a5150",
   "metadata": {},
   "outputs": [],
   "source": [
    "state[\"messages\"]=[]"
   ]
  },
  {
   "cell_type": "code",
   "execution_count": 17,
   "id": "a41d4f7c",
   "metadata": {},
   "outputs": [
    {
     "data": {
      "text/plain": [
       "{'messages': []}"
      ]
     },
     "execution_count": 17,
     "metadata": {},
     "output_type": "execute_result"
    }
   ],
   "source": [
    "state"
   ]
  },
  {
   "cell_type": "code",
   "execution_count": 18,
   "id": "4d162fea",
   "metadata": {},
   "outputs": [],
   "source": [
    "state[\"messages\"].append(\"hi\")"
   ]
  },
  {
   "cell_type": "code",
   "execution_count": 19,
   "id": "e80daffe",
   "metadata": {},
   "outputs": [
    {
     "data": {
      "text/plain": [
       "{'messages': ['hi']}"
      ]
     },
     "execution_count": 19,
     "metadata": {},
     "output_type": "execute_result"
    }
   ],
   "source": [
    "state"
   ]
  },
  {
   "cell_type": "code",
   "execution_count": 20,
   "id": "8d3ff228",
   "metadata": {},
   "outputs": [],
   "source": [
    "state[\"messages\"].append(\"how are you?\")"
   ]
  },
  {
   "cell_type": "code",
   "execution_count": 21,
   "id": "368a2a61",
   "metadata": {},
   "outputs": [
    {
     "data": {
      "text/plain": [
       "{'messages': ['hi', 'how are you?']}"
      ]
     },
     "execution_count": 21,
     "metadata": {},
     "output_type": "execute_result"
    }
   ],
   "source": [
    "state"
   ]
  },
  {
   "cell_type": "code",
   "execution_count": 22,
   "id": "8d15bf38",
   "metadata": {},
   "outputs": [],
   "source": [
    "state[\"messages\"].append(\"what going on?\")"
   ]
  },
  {
   "cell_type": "code",
   "execution_count": null,
   "id": "3912c910",
   "metadata": {},
   "outputs": [],
   "source": [
    "class MessagesState(TypedDict):\n",
    "    messages: Annotated[list[AnyMessage], add_messages]"
   ]
  },
  {
   "cell_type": "code",
   "execution_count": 23,
   "id": "a8bd10a9",
   "metadata": {},
   "outputs": [
    {
     "data": {
      "text/plain": [
       "{'messages': ['hi', 'how are you?', 'what going on?']}"
      ]
     },
     "execution_count": 23,
     "metadata": {},
     "output_type": "execute_result"
    }
   ],
   "source": [
    "state"
   ]
  },
  {
   "cell_type": "code",
   "execution_count": 24,
   "id": "2126ba69",
   "metadata": {},
   "outputs": [
    {
     "data": {
      "text/plain": [
       "'hi'"
      ]
     },
     "execution_count": 24,
     "metadata": {},
     "output_type": "execute_result"
    }
   ],
   "source": [
    "state[\"messages\"][0]"
   ]
  },
  {
   "cell_type": "code",
   "execution_count": 25,
   "id": "09061815",
   "metadata": {},
   "outputs": [
    {
     "data": {
      "text/plain": [
       "'what going on?'"
      ]
     },
     "execution_count": 25,
     "metadata": {},
     "output_type": "execute_result"
    }
   ],
   "source": [
    "state[\"messages\"][-1]"
   ]
  },
  {
   "cell_type": "code",
   "execution_count": null,
   "id": "a366713e",
   "metadata": {},
   "outputs": [],
   "source": [
    "## this state is a dict which containing the message as list and inside the list there could be n numbvers of messages\n",
    "\n",
    "## this state will be flowing across all the nodes(function) in langgraph"
   ]
  },
  {
   "cell_type": "code",
   "execution_count": 26,
   "id": "a5319fbd",
   "metadata": {},
   "outputs": [],
   "source": [
    "def call_model(state:MessagesState):\n",
    "    question=state[\"messages\"]\n",
    "    response=openai_model.invoke(question)\n",
    "    return {\"messages\":[response]}"
   ]
  },
  {
   "cell_type": "code",
   "execution_count": 27,
   "id": "ebc0a3ab",
   "metadata": {},
   "outputs": [],
   "source": [
    "workflow=StateGraph(MessagesState)"
   ]
  },
  {
   "cell_type": "code",
   "execution_count": 28,
   "id": "09e3efcf",
   "metadata": {},
   "outputs": [
    {
     "data": {
      "text/plain": [
       "<langgraph.graph.state.StateGraph at 0x21727acf670>"
      ]
     },
     "execution_count": 28,
     "metadata": {},
     "output_type": "execute_result"
    }
   ],
   "source": [
    "workflow.add_node(\"chatbot\",call_model)"
   ]
  },
  {
   "cell_type": "code",
   "execution_count": 30,
   "id": "8885ba76",
   "metadata": {},
   "outputs": [
    {
     "data": {
      "text/plain": [
       "<langgraph.graph.state.StateGraph at 0x21727acf670>"
      ]
     },
     "execution_count": 30,
     "metadata": {},
     "output_type": "execute_result"
    }
   ],
   "source": [
    "workflow.add_edge(START,\"chatbot\")"
   ]
  },
  {
   "cell_type": "code",
   "execution_count": 32,
   "id": "610a14c2",
   "metadata": {},
   "outputs": [
    {
     "data": {
      "text/plain": [
       "<langgraph.graph.state.StateGraph at 0x21727acf670>"
      ]
     },
     "execution_count": 32,
     "metadata": {},
     "output_type": "execute_result"
    }
   ],
   "source": [
    "workflow.add_edge(\"chatbot\",END)"
   ]
  },
  {
   "cell_type": "code",
   "execution_count": 34,
   "id": "43f2ee2d",
   "metadata": {},
   "outputs": [],
   "source": [
    "app=workflow.compile()"
   ]
  },
  {
   "cell_type": "code",
   "execution_count": 39,
   "id": "8a856bbd",
   "metadata": {},
   "outputs": [],
   "source": [
    "from IPython.display import Image,display"
   ]
  },
  {
   "cell_type": "code",
   "execution_count": 36,
   "id": "bfa21563",
   "metadata": {},
   "outputs": [
    {
     "data": {
      "image/png": "[encoded data removed]",
      "text/plain": [
       "<IPython.core.display.Image object>"
      ]
     },
     "metadata": {},
     "output_type": "display_data"
    }
   ],
   "source": [
    "display(Image(app.get_graph().draw_mermaid_png()))"
   ]
  },
  {
   "cell_type": "code",
   "execution_count": 37,
   "id": "110c0b0b",
   "metadata": {},
   "outputs": [],
   "source": [
    "input={\"messages\":[\"hi my name is sunny\"]}"
   ]
  },
  {
   "cell_type": "code",
   "execution_count": 39,
   "id": "4487276c",
   "metadata": {},
   "outputs": [],
   "source": [
    "response=app.invoke(input)"
   ]
  },
  {
   "cell_type": "code",
   "execution_count": 40,
   "id": "4a87894e",
   "metadata": {},
   "outputs": [
    {
     "data": {
      "text/plain": [
       "'Hi Sunny! How can I assist you today?'"
      ]
     },
     "execution_count": 40,
     "metadata": {},
     "output_type": "execute_result"
    }
   ],
   "source": [
    "response[\"messages\"][-1].content"
   ]
  },
  {
   "cell_type": "code",
   "execution_count": 41,
   "id": "9a955f33",
   "metadata": {},
   "outputs": [
    {
     "name": "stdout",
     "output_type": "stream",
     "text": [
      "Output from chatbot Node\n",
      "_______\n",
      "{'messages': [AIMessage(content='Hello, Sunny! How can I assist you today?', additional_kwargs={'refusal': None}, response_metadata={'token_usage': {'completion_tokens': 12, 'prompt_tokens': 12, 'total_tokens': 24, 'completion_tokens_details': {'accepted_prediction_tokens': 0, 'audio_tokens': 0, 'reasoning_tokens': 0, 'rejected_prediction_tokens': 0}, 'prompt_tokens_details': {'audio_tokens': 0, 'cached_tokens': 0}}, 'model_name': 'gpt-4o-2024-08-06', 'system_fingerprint': 'fp_92f14e8683', 'finish_reason': 'stop', 'logprobs': None}, id='run-903df924-4611-4362-a679-75ec97dc96e3-0', usage_metadata={'input_tokens': 12, 'output_tokens': 12, 'total_tokens': 24, 'input_token_details': {'audio': 0, 'cache_read': 0}, 'output_token_details': {'audio': 0, 'reasoning': 0}})]}\n",
      "\n",
      "\n"
     ]
    }
   ],
   "source": [
    "for output in app.stream(input):\n",
    "    for key,value in output.items():\n",
    "        print(f\"Output from {key} Node\")\n",
    "        print(\"_______\")\n",
    "        print(value)\n",
    "        print(\"\\n\")"
   ]
  },
  {
   "cell_type": "code",
   "execution_count": 11,
   "id": "9007efa6",
   "metadata": {},
   "outputs": [],
   "source": [
    "@tool\n",
    "def search(query:str):\n",
    "    \"\"\"this is a tool for weather checking\"\"\"\n",
    "    if \"india\" in query.lower() or \"delhi\" in query.lower():\n",
    "        return \"the weather is hotty with some foggy\"\n",
    "    return \"weather is cloudy with some darkness\""
   ]
  },
  {
   "cell_type": "code",
   "execution_count": 12,
   "id": "e3976a85",
   "metadata": {},
   "outputs": [
    {
     "data": {
      "text/plain": [
       "'weather is cloudy with some darkness'"
      ]
     },
     "execution_count": 12,
     "metadata": {},
     "output_type": "execute_result"
    }
   ],
   "source": [
    "search.invoke(\"what is a weather in japan?\")"
   ]
  },
  {
   "cell_type": "code",
   "execution_count": 13,
   "id": "de3f2f61",
   "metadata": {},
   "outputs": [
    {
     "data": {
      "text/plain": [
       "'the weather is hotty with some foggy'"
      ]
     },
     "execution_count": 13,
     "metadata": {},
     "output_type": "execute_result"
    }
   ],
   "source": [
    "search.invoke(\"what is a weather in delhi?\")"
   ]
  },
  {
   "cell_type": "code",
   "execution_count": 14,
   "id": "52d77bc2",
   "metadata": {},
   "outputs": [],
   "source": [
    "tools=[search]"
   ]
  },
  {
   "cell_type": "code",
   "execution_count": 15,
   "id": "2acdcb3f",
   "metadata": {},
   "outputs": [],
   "source": [
    "llm_with_tool=openai_model.bind_tools(tools)"
   ]
  },
  {
   "cell_type": "code",
   "execution_count": 16,
   "id": "68759128",
   "metadata": {},
   "outputs": [],
   "source": [
    "response=llm_with_tool.invoke(\"hi\")"
   ]
  },
  {
   "cell_type": "code",
   "execution_count": 17,
   "id": "0a3c7868",
   "metadata": {},
   "outputs": [
    {
     "data": {
      "text/plain": [
       "'Hello! How can I assist you today?'"
      ]
     },
     "execution_count": 17,
     "metadata": {},
     "output_type": "execute_result"
    }
   ],
   "source": [
    "response.content"
   ]
  },
  {
   "cell_type": "code",
   "execution_count": 18,
   "id": "21f3f5b9",
   "metadata": {},
   "outputs": [
    {
     "data": {
      "text/plain": [
       "[]"
      ]
     },
     "execution_count": 18,
     "metadata": {},
     "output_type": "execute_result"
    }
   ],
   "source": [
    "response.tool_calls"
   ]
  },
  {
   "cell_type": "code",
   "execution_count": 19,
   "id": "8e42ddba",
   "metadata": {},
   "outputs": [],
   "source": [
    "result=llm_with_tool.invoke(\"what is a weather in europ?\")"
   ]
  },
  {
   "cell_type": "code",
   "execution_count": 20,
   "id": "83291f96",
   "metadata": {},
   "outputs": [
    {
     "data": {
      "text/plain": [
       "''"
      ]
     },
     "execution_count": 20,
     "metadata": {},
     "output_type": "execute_result"
    }
   ],
   "source": [
    "result.content"
   ]
  },
  {
   "cell_type": "code",
   "execution_count": 21,
   "id": "e3722e31",
   "metadata": {},
   "outputs": [
    {
     "data": {
      "text/plain": [
       "[{'name': 'search',\n",
       "  'args': {'query': 'current weather in Europe'},\n",
       "  'id': 'call_tol5hOy9LHURFgg9ZAxusqT9',\n",
       "  'type': 'tool_call'}]"
      ]
     },
     "execution_count": 21,
     "metadata": {},
     "output_type": "execute_result"
    }
   ],
   "source": [
    "result.tool_calls"
   ]
  },
  {
   "cell_type": "code",
   "execution_count": 23,
   "id": "d810a7fe",
   "metadata": {},
   "outputs": [],
   "source": [
    "def call_model(state:MessagesState):\n",
    "    question=state[\"messages\"]\n",
    "    response=llm_with_tool.invoke(question)\n",
    "    return {\"messages\":[response]}"
   ]
  },
  {
   "cell_type": "code",
   "execution_count": 24,
   "id": "46448b70",
   "metadata": {},
   "outputs": [],
   "source": [
    "input={'messages': ['hi my name is sunny']}"
   ]
  },
  {
   "cell_type": "code",
   "execution_count": 25,
   "id": "9bcabdea",
   "metadata": {},
   "outputs": [],
   "source": [
    "response=call_model(input)"
   ]
  },
  {
   "cell_type": "code",
   "execution_count": 26,
   "id": "5ff7c13f",
   "metadata": {},
   "outputs": [],
   "source": [
    "message=response[\"messages\"]"
   ]
  },
  {
   "cell_type": "code",
   "execution_count": 27,
   "id": "9dd08409",
   "metadata": {},
   "outputs": [],
   "source": [
    "last_message=message[-1]"
   ]
  },
  {
   "cell_type": "code",
   "execution_count": 28,
   "id": "726cf236",
   "metadata": {},
   "outputs": [
    {
     "data": {
      "text/plain": [
       "'Hello Sunny! How can I assist you today?'"
      ]
     },
     "execution_count": 28,
     "metadata": {},
     "output_type": "execute_result"
    }
   ],
   "source": [
    "last_message.content"
   ]
  },
  {
   "cell_type": "code",
   "execution_count": 29,
   "id": "1771da82",
   "metadata": {},
   "outputs": [
    {
     "data": {
      "text/plain": [
       "[]"
      ]
     },
     "execution_count": 29,
     "metadata": {},
     "output_type": "execute_result"
    }
   ],
   "source": [
    "last_message.tool_calls"
   ]
  },
  {
   "cell_type": "code",
   "execution_count": 30,
   "id": "8c60e464",
   "metadata": {},
   "outputs": [],
   "source": [
    "input={'messages': ['what is a weather in mumbai?']}"
   ]
  },
  {
   "cell_type": "code",
   "execution_count": 42,
   "id": "09eda53d",
   "metadata": {},
   "outputs": [],
   "source": [
    "def router_function(state: MessagesState):\n",
    "    message=state[\"messages\"]\n",
    "    last_message=message[-1]\n",
    "    if last_message.tool_calls:\n",
    "        return \"tools\"\n",
    "    return END"
   ]
  },
  {
   "cell_type": "code",
   "execution_count": 43,
   "id": "40cf115c",
   "metadata": {},
   "outputs": [
    {
     "data": {
      "text/plain": [
       "[StructuredTool(name='search', description='this is a tool for weather checking', args_schema=<class 'langchain_core.utils.pydantic.search'>, func=<function search at 0x000001A1C4A789D0>)]"
      ]
     },
     "execution_count": 43,
     "metadata": {},
     "output_type": "execute_result"
    }
   ],
   "source": [
    "tools"
   ]
  },
  {
   "cell_type": "code",
   "execution_count": 44,
   "id": "cd2caa03",
   "metadata": {},
   "outputs": [],
   "source": [
    "tool_node=ToolNode(tools)"
   ]
  },
  {
   "cell_type": "code",
   "execution_count": 45,
   "id": "8da84a49",
   "metadata": {},
   "outputs": [],
   "source": [
    "workflow=StateGraph(MessagesState)"
   ]
  },
  {
   "cell_type": "code",
   "execution_count": 46,
   "id": "0441f048",
   "metadata": {},
   "outputs": [
    {
     "data": {
      "text/plain": [
       "<langgraph.graph.state.StateGraph at 0x1a1c5793820>"
      ]
     },
     "execution_count": 46,
     "metadata": {},
     "output_type": "execute_result"
    }
   ],
   "source": [
    "workflow.add_node(\"assistant\",call_model)\n",
    "workflow.add_node(\"myweathertool\",tool_node)"
   ]
  },
  {
   "cell_type": "code",
   "execution_count": 47,
   "id": "073e628b",
   "metadata": {},
   "outputs": [],
   "source": [
    "workflow.add_edge(START, \"assistant\")\n",
    "\n",
    "workflow.add_conditional_edges(\"assistant\",\n",
    "                               router_function,\n",
    "                               {\"tools\": \"myweathertool\", END: END})\n",
    "\n",
    "app = workflow.compile()"
   ]
  },
  {
   "cell_type": "code",
   "execution_count": 48,
   "id": "f1385ee4",
   "metadata": {},
   "outputs": [
    {
     "data": {
      "image/png": "[encoded data removed]",
      "text/plain": [
       "<IPython.core.display.Image object>"
      ]
     },
     "metadata": {},
     "output_type": "display_data"
    }
   ],
   "source": [
    "display(Image(app.get_graph().draw_mermaid_png()))"
   ]
  },
  {
   "cell_type": "code",
   "execution_count": 50,
   "id": "183643c0",
   "metadata": {},
   "outputs": [
    {
     "data": {
      "text/plain": [
       "{'messages': [HumanMessage(content='how are you?', additional_kwargs={}, response_metadata={}, id='35304953-def9-411a-af33-c13da0c59f4c'),\n",
       "  AIMessage(content=\"I'm just a computer program, but I'm here and ready to assist you with any questions or tasks you have! How can I help you today?\", additional_kwargs={'refusal': None}, response_metadata={'token_usage': {'completion_tokens': 31, 'prompt_tokens': 48, 'total_tokens': 79, 'completion_tokens_details': {'accepted_prediction_tokens': 0, 'audio_tokens': 0, 'reasoning_tokens': 0, 'rejected_prediction_tokens': 0}, 'prompt_tokens_details': {'audio_tokens': 0, 'cached_tokens': 0}}, 'model_name': 'gpt-4o-2024-08-06', 'system_fingerprint': 'fp_92f14e8683', 'finish_reason': 'stop', 'logprobs': None}, id='run-3157f5ac-6c9a-4994-8049-5df4c46f80bc-0', usage_metadata={'input_tokens': 48, 'output_tokens': 31, 'total_tokens': 79, 'input_token_details': {'audio': 0, 'cache_read': 0}, 'output_token_details': {'audio': 0, 'reasoning': 0}})]}"
      ]
     },
     "execution_count": 50,
     "metadata": {},
     "output_type": "execute_result"
    }
   ],
   "source": [
    "app.invoke({\"messages\": [\"how are you?\"]})"
   ]
  },
  {
   "cell_type": "code",
   "execution_count": 49,
   "id": "80372ca7",
   "metadata": {},
   "outputs": [
    {
     "data": {
      "text/plain": [
       "{'messages': [HumanMessage(content='what is a weather in delhi?', additional_kwargs={}, response_metadata={}, id='ab97e960-4f75-4bc2-b33d-2e71af5e9636'),\n",
       "  AIMessage(content='', additional_kwargs={'tool_calls': [{'id': 'call_yGUyksdfre0oMUxMjgvXqlDE', 'function': {'arguments': '{\"query\":\"current weather in Delhi\"}', 'name': 'search'}, 'type': 'function'}], 'refusal': None}, response_metadata={'token_usage': {'completion_tokens': 17, 'prompt_tokens': 52, 'total_tokens': 69, 'completion_tokens_details': {'accepted_prediction_tokens': 0, 'audio_tokens': 0, 'reasoning_tokens': 0, 'rejected_prediction_tokens': 0}, 'prompt_tokens_details': {'audio_tokens': 0, 'cached_tokens': 0}}, 'model_name': 'gpt-4o-2024-08-06', 'system_fingerprint': 'fp_92f14e8683', 'finish_reason': 'tool_calls', 'logprobs': None}, id='run-285abba1-b433-40a6-a6c4-c7cab0b01878-0', tool_calls=[{'name': 'search', 'args': {'query': 'current weather in Delhi'}, 'id': 'call_yGUyksdfre0oMUxMjgvXqlDE', 'type': 'tool_call'}], usage_metadata={'input_tokens': 52, 'output_tokens': 17, 'total_tokens': 69, 'input_token_details': {'audio': 0, 'cache_read': 0}, 'output_token_details': {'audio': 0, 'reasoning': 0}}),\n",
       "  ToolMessage(content='the weather is hotty with some foggy', name='search', id='43de9746-9699-4b7c-9f90-7b8a7006e47d', tool_call_id='call_yGUyksdfre0oMUxMjgvXqlDE')]}"
      ]
     },
     "execution_count": 49,
     "metadata": {},
     "output_type": "execute_result"
    }
   ],
   "source": [
    "app.invoke({\"messages\": [\"what is a weather in delhi?\"]})"
   ]
  },
  {
   "cell_type": "code",
   "execution_count": 51,
   "id": "34260be5",
   "metadata": {},
   "outputs": [
    {
     "name": "stderr",
     "output_type": "stream",
     "text": [
      "Adding an edge to a graph that has already been compiled. This will not be reflected in the compiled graph.\n"
     ]
    },
    {
     "data": {
      "text/plain": [
       "<langgraph.graph.state.StateGraph at 0x1a1c5793820>"
      ]
     },
     "execution_count": 51,
     "metadata": {},
     "output_type": "execute_result"
    }
   ],
   "source": [
    "workflow.add_edge(\"myweathertool\",\"assistant\")"
   ]
  },
  {
   "cell_type": "code",
   "execution_count": 52,
   "id": "a1ecd9c7",
   "metadata": {},
   "outputs": [],
   "source": [
    "app = workflow.compile()"
   ]
  },
  {
   "cell_type": "code",
   "execution_count": 53,
   "id": "f2b75bdf",
   "metadata": {},
   "outputs": [
    {
     "data": {
      "image/png": "[encoded data removed]",
      "text/plain": [
       "<IPython.core.display.Image object>"
      ]
     },
     "metadata": {},
     "output_type": "display_data"
    }
   ],
   "source": [
    "display(Image(app.get_graph().draw_mermaid_png()))"
   ]
  },
  {
   "cell_type": "code",
   "execution_count": 54,
   "id": "10c8747e",
   "metadata": {},
   "outputs": [
    {
     "data": {
      "text/plain": [
       "{'messages': [HumanMessage(content='what is a weather in delhi?', additional_kwargs={}, response_metadata={}, id='a61d43f6-a7ab-411e-b5f2-d3036f07ddf1'),\n",
       "  AIMessage(content='', additional_kwargs={'tool_calls': [{'id': 'call_Pn87PZzbsUUYACk0VKthO2P3', 'function': {'arguments': '{\"query\":\"weather in Delhi\"}', 'name': 'search'}, 'type': 'function'}], 'refusal': None}, response_metadata={'token_usage': {'completion_tokens': 16, 'prompt_tokens': 52, 'total_tokens': 68, 'completion_tokens_details': {'accepted_prediction_tokens': 0, 'audio_tokens': 0, 'reasoning_tokens': 0, 'rejected_prediction_tokens': 0}, 'prompt_tokens_details': {'audio_tokens': 0, 'cached_tokens': 0}}, 'model_name': 'gpt-4o-2024-08-06', 'system_fingerprint': 'fp_92f14e8683', 'finish_reason': 'tool_calls', 'logprobs': None}, id='run-a19fc966-7252-4855-9a4d-dba03fa17b96-0', tool_calls=[{'name': 'search', 'args': {'query': 'weather in Delhi'}, 'id': 'call_Pn87PZzbsUUYACk0VKthO2P3', 'type': 'tool_call'}], usage_metadata={'input_tokens': 52, 'output_tokens': 16, 'total_tokens': 68, 'input_token_details': {'audio': 0, 'cache_read': 0}, 'output_token_details': {'audio': 0, 'reasoning': 0}}),\n",
       "  ToolMessage(content='the weather is hotty with some foggy', name='search', id='053284c1-4533-4453-b57b-4d9478ac3a44', tool_call_id='call_Pn87PZzbsUUYACk0VKthO2P3'),\n",
       "  AIMessage(content='The weather in Delhi is currently hot with some foggy conditions.', additional_kwargs={'refusal': None}, response_metadata={'token_usage': {'completion_tokens': 15, 'prompt_tokens': 83, 'total_tokens': 98, 'completion_tokens_details': {'accepted_prediction_tokens': 0, 'audio_tokens': 0, 'reasoning_tokens': 0, 'rejected_prediction_tokens': 0}, 'prompt_tokens_details': {'audio_tokens': 0, 'cached_tokens': 0}}, 'model_name': 'gpt-4o-2024-08-06', 'system_fingerprint': 'fp_92f14e8683', 'finish_reason': 'stop', 'logprobs': None}, id='run-0809079c-dd78-4122-9a22-51d168a5982b-0', usage_metadata={'input_tokens': 83, 'output_tokens': 15, 'total_tokens': 98, 'input_token_details': {'audio': 0, 'cache_read': 0}, 'output_token_details': {'audio': 0, 'reasoning': 0}})]}"
      ]
     },
     "execution_count": 54,
     "metadata": {},
     "output_type": "execute_result"
    }
   ],
   "source": [
    "app.invoke({\"messages\": [\"what is a weather in delhi?\"]})"
   ]
  },
  {
   "cell_type": "code",
   "execution_count": 55,
   "id": "f2deb276",
   "metadata": {},
   "outputs": [
    {
     "name": "stdout",
     "output_type": "stream",
     "text": [
      "here is output from assistant\n",
      "_______\n",
      "{'messages': [AIMessage(content='', additional_kwargs={'tool_calls': [{'id': 'call_IJu4cbfI4ndMBtAfhktxkHnI', 'function': {'arguments': '{\"query\":\"Delhi weather\"}', 'name': 'search'}, 'type': 'function'}], 'refusal': None}, response_metadata={'token_usage': {'completion_tokens': 15, 'prompt_tokens': 51, 'total_tokens': 66, 'completion_tokens_details': {'accepted_prediction_tokens': 0, 'audio_tokens': 0, 'reasoning_tokens': 0, 'rejected_prediction_tokens': 0}, 'prompt_tokens_details': {'audio_tokens': 0, 'cached_tokens': 0}}, 'model_name': 'gpt-4o-2024-08-06', 'system_fingerprint': 'fp_92f14e8683', 'finish_reason': 'tool_calls', 'logprobs': None}, id='run-fdd38279-e818-4183-a107-043832941dae-0', tool_calls=[{'name': 'search', 'args': {'query': 'Delhi weather'}, 'id': 'call_IJu4cbfI4ndMBtAfhktxkHnI', 'type': 'tool_call'}], usage_metadata={'input_tokens': 51, 'output_tokens': 15, 'total_tokens': 66, 'input_token_details': {'audio': 0, 'cache_read': 0}, 'output_token_details': {'audio': 0, 'reasoning': 0}})]}\n",
      "\n",
      "\n",
      "here is output from myweathertool\n",
      "_______\n",
      "{'messages': [ToolMessage(content='the weather is hotty with some foggy', name='search', id='626ee798-593f-4952-abf7-1573608d01b7', tool_call_id='call_IJu4cbfI4ndMBtAfhktxkHnI')]}\n",
      "\n",
      "\n",
      "here is output from assistant\n",
      "_______\n",
      "{'messages': [AIMessage(content='The weather in Delhi is hot with some foggy conditions.', additional_kwargs={'refusal': None}, response_metadata={'token_usage': {'completion_tokens': 14, 'prompt_tokens': 81, 'total_tokens': 95, 'completion_tokens_details': {'accepted_prediction_tokens': 0, 'audio_tokens': 0, 'reasoning_tokens': 0, 'rejected_prediction_tokens': 0}, 'prompt_tokens_details': {'audio_tokens': 0, 'cached_tokens': 0}}, 'model_name': 'gpt-4o-2024-08-06', 'system_fingerprint': 'fp_92f14e8683', 'finish_reason': 'stop', 'logprobs': None}, id='run-3fd69af2-0828-4a64-84fd-b85f885e83cc-0', usage_metadata={'input_tokens': 81, 'output_tokens': 14, 'total_tokens': 95, 'input_token_details': {'audio': 0, 'cache_read': 0}, 'output_token_details': {'audio': 0, 'reasoning': 0}})]}\n",
      "\n",
      "\n"
     ]
    }
   ],
   "source": [
    "for output in app.stream({\"messages\": [\"what is the weather in delhi\"]}):\n",
    "    for key,value in output.items():\n",
    "        print(f\"here is output from {key}\")\n",
    "        print(\"_______\")\n",
    "        print(value)\n",
    "        print(\"\\n\")"
   ]
  },
  {
   "cell_type": "code",
   "execution_count": null,
   "id": "84a6da14",
   "metadata": {},
   "outputs": [],
   "source": [
    "@tool\n",
    "def multiply(a:int,b:int)->int:\n",
    "    \"\"\"multiply a and b\"\"\"\n",
    "    return a*b"
   ]
  },
  {
   "cell_type": "code",
   "execution_count": 58,
   "id": "fc5eadbf",
   "metadata": {},
   "outputs": [],
   "source": [
    "@tool\n",
    "def add(a:int,b:int)->int:\n",
    "    \"\"\"adding two numbers a and b\"\"\"\n",
    "    return a+b"
   ]
  },
  {
   "cell_type": "code",
   "execution_count": 59,
   "id": "c3c711c9",
   "metadata": {},
   "outputs": [],
   "source": [
    "@tool\n",
    "def divide(a:int,b:int)->int:\n",
    "    \"\"\"dividing two numbers a and b\"\"\"\n",
    "    return a/b"
   ]
  },
  {
   "cell_type": "code",
   "execution_count": 61,
   "id": "35e1b22e",
   "metadata": {},
   "outputs": [],
   "source": [
    "@tool\n",
    "def subtract(a:int,b:int)->int:\n",
    "    \"\"\"subtracting two numbers a and b \"\"\"\n",
    "    return a-b"
   ]
  },
  {
   "cell_type": "code",
   "execution_count": 78,
   "id": "f27fde2f",
   "metadata": {},
   "outputs": [],
   "source": [
    "from langchain_community.tools import DuckDuckGoSearchRun\n"
   ]
  },
  {
   "cell_type": "code",
   "execution_count": 79,
   "id": "ae2569f9",
   "metadata": {},
   "outputs": [],
   "source": [
    "duckduckgo_search=DuckDuckGoSearchRun()"
   ]
  },
  {
   "cell_type": "code",
   "execution_count": 80,
   "id": "7b4846fd",
   "metadata": {},
   "outputs": [
    {
     "data": {
      "text/plain": [
       "\"This is a list of current heads of state and heads of government. In some cases, ... Prime Minister - Keir Starmer United States: President - Donald Trump ... Prime Minister - Vacant: Sui generis entities. Entity Head of entity Head of government The White House, official residence of the president of the United States. The president of the United States is the head of state and head of government of the United States, [1] indirectly elected to a four-year term via the Electoral College. [2] Under the U.S. Constitution, the officeholder leads the executive branch of the federal government and is the commander-in-chief of the United ... The absence of a prime minister in the United States is a result of deliberate choices made by the country's Founding Fathers, who designed a political system that contrasts sharply with parliamentary systems. This article explores the reasons why the U.S. doesn't have a prime minister, focusing on the country's historical context, the ... Joe Biden (born November 20, 1942, Scranton, Pennsylvania, U.S.) is the 46th president of the United States (2021-25) and was the 47th vice president of the United States (2009-17) in the Democratic administration of Pres. Barack Obama.He previously represented Delaware in the U.S. Senate (1973-2009).. In April 2023 Joe Biden formally announced his bid for reelection as president in 2024. The president of the United States is the: U.S. head of state; Chief executive of the federal government; Commander-in-Chief of the armed forces; Current president. The 47th and current president of the United States is Donald John Trump. He was sworn into office on January 20, 2025. Former U.S. presidents. The United States has had 46 former U ...\""
      ]
     },
     "execution_count": 80,
     "metadata": {},
     "output_type": "execute_result"
    }
   ],
   "source": [
    "duckduckgo_search.invoke(\"who is a current prime minister of USA??\")"
   ]
  },
  {
   "cell_type": "code",
   "execution_count": 81,
   "id": "412f68f1",
   "metadata": {},
   "outputs": [],
   "source": [
    "tools=[multiply, add, divide, subtract, duckduckgo_search]"
   ]
  },
  {
   "cell_type": "code",
   "execution_count": 82,
   "id": "4adc205e",
   "metadata": {},
   "outputs": [],
   "source": [
    "llm_with_tools=openai_model.bind_tools(tools)"
   ]
  },
  {
   "cell_type": "code",
   "execution_count": 83,
   "id": "5c733a83",
   "metadata": {},
   "outputs": [
    {
     "data": {
      "text/plain": [
       "RunnableBinding(bound=ChatOpenAI(client=<openai.resources.chat.completions.completions.Completions object at 0x000001A1C4897490>, async_client=<openai.resources.chat.completions.completions.AsyncCompletions object at 0x000001A1C48C1DE0>, root_client=<openai.OpenAI object at 0x000001A1C47F8CD0>, root_async_client=<openai.AsyncOpenAI object at 0x000001A1C48974F0>, model_name='gpt-4o', model_kwargs={}, openai_api_key=SecretStr('**********')), kwargs={'tools': [{'type': 'function', 'function': {'name': 'multiply', 'description': 'multiply a and b', 'parameters': {'properties': {'a': {'type': 'integer'}, 'b': {'type': 'integer'}}, 'required': ['a', 'b'], 'type': 'object'}}}, {'type': 'function', 'function': {'name': 'add', 'description': 'adding two numbers a and b', 'parameters': {'properties': {'a': {'type': 'integer'}, 'b': {'type': 'integer'}}, 'required': ['a', 'b'], 'type': 'object'}}}, {'type': 'function', 'function': {'name': 'divide', 'description': 'dividing two numbers a and b', 'parameters': {'properties': {'a': {'type': 'integer'}, 'b': {'type': 'integer'}}, 'required': ['a', 'b'], 'type': 'object'}}}, {'type': 'function', 'function': {'name': 'subtract', 'description': 'subtracting two numbers a and b', 'parameters': {'properties': {'a': {'type': 'integer'}, 'b': {'type': 'integer'}}, 'required': ['a', 'b'], 'type': 'object'}}}, {'type': 'function', 'function': {'name': 'duckduckgo_search', 'description': 'A wrapper around DuckDuckGo Search. Useful for when you need to answer questions about current events. Input should be a search query.', 'parameters': {'properties': {'query': {'description': 'search query to look up', 'type': 'string'}}, 'required': ['query'], 'type': 'object'}}}]}, config={}, config_factories=[])"
      ]
     },
     "execution_count": 83,
     "metadata": {},
     "output_type": "execute_result"
    }
   ],
   "source": [
    "llm_with_tools"
   ]
  },
  {
   "cell_type": "code",
   "execution_count": 84,
   "id": "5c654799",
   "metadata": {},
   "outputs": [
    {
     "data": {
      "text/plain": [
       "[]"
      ]
     },
     "execution_count": 84,
     "metadata": {},
     "output_type": "execute_result"
    }
   ],
   "source": [
    "llm_with_tools.invoke(\"hi\").tool_calls"
   ]
  },
  {
   "cell_type": "code",
   "execution_count": 85,
   "id": "21628b05",
   "metadata": {},
   "outputs": [
    {
     "data": {
      "text/plain": [
       "[{'name': 'add',\n",
       "  'args': {'a': 5, 'b': 40},\n",
       "  'id': 'call_0v1Qi6xpFx9xyOrU7lKTxdAJ',\n",
       "  'type': 'tool_call'}]"
      ]
     },
     "execution_count": 85,
     "metadata": {},
     "output_type": "execute_result"
    }
   ],
   "source": [
    "llm_with_tools.invoke(\"can you add these two number 5 and 40?\").tool_calls"
   ]
  },
  {
   "cell_type": "code",
   "execution_count": 86,
   "id": "42fbff3e",
   "metadata": {},
   "outputs": [
    {
     "data": {
      "text/plain": [
       "[{'name': 'multiply',\n",
       "  'args': {'a': 5, 'b': 40},\n",
       "  'id': 'call_0t4cAMW9twoYZwnssQpdgUlm',\n",
       "  'type': 'tool_call'}]"
      ]
     },
     "execution_count": 86,
     "metadata": {},
     "output_type": "execute_result"
    }
   ],
   "source": [
    "llm_with_tools.invoke(\"can you multiply these two number 5 and 40?\").tool_calls"
   ]
  },
  {
   "cell_type": "code",
   "execution_count": 87,
   "id": "5cfcfa43",
   "metadata": {},
   "outputs": [
    {
     "data": {
      "text/plain": [
       "[{'name': 'divide',\n",
       "  'args': {'a': 5, 'b': 40},\n",
       "  'id': 'call_ZB3IucS7KkgxpRpDie2HsXC8',\n",
       "  'type': 'tool_call'}]"
      ]
     },
     "execution_count": 87,
     "metadata": {},
     "output_type": "execute_result"
    }
   ],
   "source": [
    "llm_with_tools.invoke(\"can you divide these two number 5 and 40?\").tool_calls"
   ]
  },
  {
   "cell_type": "code",
   "execution_count": 88,
   "id": "8febcbae",
   "metadata": {},
   "outputs": [
    {
     "data": {
      "text/plain": [
       "[{'name': 'duckduckgo_search',\n",
       "  'args': {'query': 'current GDP of India 2023'},\n",
       "  'id': 'call_3kC1SSdjS3b84VTvw4Wy8dEs',\n",
       "  'type': 'tool_call'}]"
      ]
     },
     "execution_count": 88,
     "metadata": {},
     "output_type": "execute_result"
    }
   ],
   "source": [
    "llm_with_tools.invoke(\"what is a current gdp of india with current affaires\").tool_calls"
   ]
  },
  {
   "cell_type": "code",
   "execution_count": 91,
   "id": "650a34e4",
   "metadata": {},
   "outputs": [],
   "source": [
    "from langchain_core.messages import HumanMessage, SystemMessage"
   ]
  },
  {
   "cell_type": "code",
   "execution_count": 92,
   "id": "24925dc4",
   "metadata": {},
   "outputs": [],
   "source": [
    "# System message\n",
    "sys_msg = SystemMessage(content=\"You are a helpful assistant tasked with using search and performing arithmetic on a set of inputs.\")\n",
    "     "
   ]
  },
  {
   "cell_type": "code",
   "execution_count": 103,
   "id": "a19a024a",
   "metadata": {},
   "outputs": [],
   "source": [
    "def assistant(state:MessagesState):\n",
    "    return {\"messages\":[llm_with_tools.invoke([sys_msg]+state[\"messages\"])]}"
   ]
  },
  {
   "cell_type": "code",
   "execution_count": 104,
   "id": "877fa1d5",
   "metadata": {},
   "outputs": [],
   "source": [
    "builder=StateGraph(MessagesState)"
   ]
  },
  {
   "cell_type": "code",
   "execution_count": 105,
   "id": "1c2042af",
   "metadata": {},
   "outputs": [
    {
     "data": {
      "text/plain": [
       "<langgraph.graph.state.StateGraph at 0x1a1c57c7eb0>"
      ]
     },
     "execution_count": 105,
     "metadata": {},
     "output_type": "execute_result"
    }
   ],
   "source": [
    "builder.add_node(\"assistant\",assistant)"
   ]
  },
  {
   "cell_type": "code",
   "execution_count": 106,
   "id": "2cb6ce21",
   "metadata": {},
   "outputs": [
    {
     "data": {
      "text/plain": [
       "<langgraph.graph.state.StateGraph at 0x1a1c57c7eb0>"
      ]
     },
     "execution_count": 106,
     "metadata": {},
     "output_type": "execute_result"
    }
   ],
   "source": [
    "builder.add_node(\"tools\",ToolNode(tools))"
   ]
  },
  {
   "cell_type": "code",
   "execution_count": 107,
   "id": "ac5d6718",
   "metadata": {},
   "outputs": [
    {
     "data": {
      "text/plain": [
       "<langgraph.graph.state.StateGraph at 0x1a1c57c7eb0>"
      ]
     },
     "execution_count": 107,
     "metadata": {},
     "output_type": "execute_result"
    }
   ],
   "source": [
    "builder.add_edge(START,\"assistant\")"
   ]
  },
  {
   "cell_type": "code",
   "execution_count": 108,
   "id": "32722c39",
   "metadata": {},
   "outputs": [],
   "source": [
    "\n",
    "from langgraph.prebuilt import tools_condition"
   ]
  },
  {
   "cell_type": "code",
   "execution_count": 109,
   "id": "34d176f2",
   "metadata": {},
   "outputs": [
    {
     "data": {
      "text/plain": [
       "<langgraph.graph.state.StateGraph at 0x1a1c57c7eb0>"
      ]
     },
     "execution_count": 109,
     "metadata": {},
     "output_type": "execute_result"
    }
   ],
   "source": [
    "builder.add_conditional_edges(\n",
    "    \"assistant\",\n",
    "    tools_condition\n",
    ")"
   ]
  },
  {
   "cell_type": "code",
   "execution_count": 110,
   "id": "b8b3e95b",
   "metadata": {},
   "outputs": [],
   "source": [
    "react_app=builder.compile()"
   ]
  },
  {
   "cell_type": "code",
   "execution_count": 111,
   "id": "0f009e31",
   "metadata": {},
   "outputs": [
    {
     "data": {
      "image/png": "[encoded data removed]",
      "text/plain": [
       "<IPython.core.display.Image object>"
      ]
     },
     "metadata": {},
     "output_type": "display_data"
    }
   ],
   "source": [
    "display(Image(react_app.get_graph().draw_mermaid_png()))"
   ]
  },
  {
   "cell_type": "code",
   "execution_count": 112,
   "id": "197108a8",
   "metadata": {},
   "outputs": [
    {
     "name": "stderr",
     "output_type": "stream",
     "text": [
      "Adding an edge to a graph that has already been compiled. This will not be reflected in the compiled graph.\n"
     ]
    },
    {
     "data": {
      "text/plain": [
       "<langgraph.graph.state.StateGraph at 0x1a1c57c7eb0>"
      ]
     },
     "execution_count": 112,
     "metadata": {},
     "output_type": "execute_result"
    }
   ],
   "source": [
    "builder.add_edge(\"tools\",\"assistant\")"
   ]
  },
  {
   "cell_type": "code",
   "execution_count": 113,
   "id": "90bc0cec",
   "metadata": {},
   "outputs": [],
   "source": [
    "react_app=builder.compile()"
   ]
  },
  {
   "cell_type": "code",
   "execution_count": 114,
   "id": "100c88e5",
   "metadata": {},
   "outputs": [
    {
     "data": {
      "image/png": "[encoded data removed]",
      "text/plain": [
       "<IPython.core.display.Image object>"
      ]
     },
     "metadata": {},
     "output_type": "display_data"
    }
   ],
   "source": [
    "display(Image(react_app.get_graph().draw_mermaid_png()))"
   ]
  },
  {
   "cell_type": "code",
   "execution_count": 115,
   "id": "3a4f5fb0",
   "metadata": {},
   "outputs": [],
   "source": [
    "message=[HumanMessage(content=\"what is twice of narendra modi's current age?\")]\n",
    "\n",
    "## this below detail is called a agentic flow\n",
    "# first it will come to assistant\n",
    "# then it will search narendra modi age\n",
    "# then it will come to again assistant\n",
    "# then it wil call the multiply tool for getting twice of age\n",
    "# then again it will come to assistant \n",
    "# then it will generate a final answer\n",
    "\n",
    "# REACT->> Reasoning+actions\n",
    "\n",
    "# Thinking, action, observation, thiniking,action, observation---> if everything is going to be full fill\n",
    "# then generating a final ans"
   ]
  },
  {
   "cell_type": "code",
   "execution_count": 117,
   "id": "030c2974",
   "metadata": {},
   "outputs": [],
   "source": [
    "response=react_app.invoke({\"messages\":message})"
   ]
  },
  {
   "cell_type": "code",
   "execution_count": 118,
   "id": "2a757c13",
   "metadata": {},
   "outputs": [
    {
     "name": "stdout",
     "output_type": "stream",
     "text": [
      "================================\u001b[1m Human Message \u001b[0m=================================\n",
      "\n",
      "what is twice of narendra modi's current age?\n",
      "==================================\u001b[1m Ai Message \u001b[0m==================================\n",
      "Tool Calls:\n",
      "  duckduckgo_search (call_No6zjTboZqk3p2UwzO0Lfy5t)\n",
      " Call ID: call_No6zjTboZqk3p2UwzO0Lfy5t\n",
      "  Args:\n",
      "    query: Narendra Modi age 2023\n",
      "=================================\u001b[1m Tool Message \u001b[0m=================================\n",
      "Name: duckduckgo_search\n",
      "\n",
      "Learn about the life and achievements of Narendra Modi, the current Prime Minister of India, who was born on September 17, 1950, in Gujarat. Find out his full name, education, political journey, and constituency. 2023: PM Narendra Modi announced the PM Vishwakarma Yojana to enhance the skilling of craftsmen and artisans in the country. Two key infrastructure projects - India International Convention and ... List of all Prime Ministers of India till 2025: Narendra Modi is the current and 14th Prime Minister of India who assumed office on 10 June 2024. Jawaharlal Nehru is the first and the longest ... Prime Minister Narendra Modi turns 74 today, celebrating another year in a long and impactful public service career. Even on his birthday, Modi is busy with work, launching several welfare schemes, while the Bharatiya Janata Party (BJP) marks the day with their annual 'Seva Parv,' focusing on public welfare initiatives. Born on September 17, 1950, in Mehsana, Gujarat, Modi has served three ... Narendra Modi (born September 17, 1950, Vadnagar, India) is an Indian politician and government official who rose to become a senior leader of the Bharatiya Janata Party (BJP). In 2014 he led his party to victory in elections to the Lok Sabha (lower chamber of the Indian parliament), after which he was sworn in as prime minister of India.Prior to that he had served (2001-14) as chief ...\n",
      "==================================\u001b[1m Ai Message \u001b[0m==================================\n",
      "Tool Calls:\n",
      "  multiply (call_5CnHsFEWQgfCaz1MITN7RILb)\n",
      " Call ID: call_5CnHsFEWQgfCaz1MITN7RILb\n",
      "  Args:\n",
      "    a: 74\n",
      "    b: 2\n",
      "=================================\u001b[1m Tool Message \u001b[0m=================================\n",
      "Name: multiply\n",
      "\n",
      "148\n",
      "==================================\u001b[1m Ai Message \u001b[0m==================================\n",
      "\n",
      "Narendra Modi is currently 74 years old. Twice his age is 148.\n"
     ]
    }
   ],
   "source": [
    "for m in response[\"messages\"]:\n",
    "    m.pretty_print()"
   ]
  },
  {
   "cell_type": "code",
   "execution_count": 119,
   "id": "83208432",
   "metadata": {},
   "outputs": [],
   "source": [
    "messages=[HumanMessage(content=\"hi hello how are you?\")]"
   ]
  },
  {
   "cell_type": "code",
   "execution_count": 120,
   "id": "b811ca15",
   "metadata": {},
   "outputs": [],
   "source": [
    "response=react_app.invoke({\"messages\":messages})"
   ]
  },
  {
   "cell_type": "code",
   "execution_count": 121,
   "id": "e19b73e2",
   "metadata": {},
   "outputs": [
    {
     "name": "stdout",
     "output_type": "stream",
     "text": [
      "================================\u001b[1m Human Message \u001b[0m=================================\n",
      "\n",
      "hi hello how are you?\n",
      "==================================\u001b[1m Ai Message \u001b[0m==================================\n",
      "\n",
      "Hello! I'm here to assist you. How can I help you today?\n"
     ]
    }
   ],
   "source": [
    "for m in response[\"messages\"]:\n",
    "    m.pretty_print()"
   ]
  },
  {
   "cell_type": "markdown",
   "id": "ead8d44d",
   "metadata": {},
   "source": [
    "1. humanmessage\n",
    "2. ai mesage:toolcall\n",
    "3. duckcuk\n",
    "4. ai assistant\n",
    "5. sustract\n",
    "6. ai\n",
    "7. final answer"
   ]
  },
  {
   "cell_type": "code",
   "execution_count": 123,
   "id": "5c69e77a",
   "metadata": {},
   "outputs": [],
   "source": [
    "messages=[HumanMessage(content=\"what is current gdp of china and india can you give me difference between them?\")]"
   ]
  },
  {
   "cell_type": "code",
   "execution_count": 124,
   "id": "52ca8147",
   "metadata": {},
   "outputs": [],
   "source": [
    "response=react_app.invoke({\"messages\":messages})"
   ]
  },
  {
   "cell_type": "code",
   "execution_count": 125,
   "id": "ed95b3be",
   "metadata": {},
   "outputs": [
    {
     "name": "stdout",
     "output_type": "stream",
     "text": [
      "================================\u001b[1m Human Message \u001b[0m=================================\n",
      "\n",
      "what is current gdp of china and india can you give me difference between them?\n",
      "==================================\u001b[1m Ai Message \u001b[0m==================================\n",
      "Tool Calls:\n",
      "  duckduckgo_search (call_0ONjcU39PBQslxPd6PCRbmjW)\n",
      " Call ID: call_0ONjcU39PBQslxPd6PCRbmjW\n",
      "  Args:\n",
      "    query: current GDP of China 2023\n",
      "  duckduckgo_search (call_bBNSA8mOcuWhxnD9FtYq1bkp)\n",
      " Call ID: call_bBNSA8mOcuWhxnD9FtYq1bkp\n",
      "  Args:\n",
      "    query: current GDP of India 2023\n",
      "=================================\u001b[1m Tool Message \u001b[0m=================================\n",
      "Name: duckduckgo_search\n",
      "\n",
      "China revised upwards on Thursday the size of its economy by 2.7%, but said the change would have little impact on growth this year, as policymakers pledged more stimulus to spur expansion in 2025. China's gross domestic product (GDP) in 2023 was revised to 129.4 trillion yuan ($17.73 trillion), up 3.37 trillion yuan, or 2.7 percent, from the preliminary figure, data from the National Bureau ... Graph and download economic data for Gross Domestic Product for China (MKTGDPCNA646NWDB) from 1960 to 2023 about China and GDP. China's National Bureau of Statistics (NBS) on Thursday revised the country's GDP to about 129.43 trillion yuan ($17.73 trillion), an increase of around 3.37 trillion yuan from the preliminary ... China's 2023 GDP revision aligns with standard global practice, has no significant impact on 2024 growth rates\n",
      "=================================\u001b[1m Tool Message \u001b[0m=================================\n",
      "Name: duckduckgo_search\n",
      "\n",
      "Nominal GDP or GDP at Current Prices in Q4 of 2023-24 is estimated at ₹78.28 lakh crore, against ₹71.23 lakh crore in Q4 of 2022-23, showing a growth rate of 9.9%. ... (CGA) and Comptroller and Auditor General of India (CAG) have been used for estimating taxes on products at Current Prices. For compiling taxes on products at constant prices ... The United States upholds its status as the major global economy and richest country, with a GDP of over $30.34 trillion as of 2025, steadfastly preserving its pinnacle position from 1960 to 2025. The growth rate in Real GDP during 2024-25 is estimated at 6.4% as compared to 8.2% in 2023-24. Nominal GDP or GDP at Current Prices is estimated to attain a level of ₹324.11 lakh crore in the year 2024-25, against ₹295.36 lakh crore in 2023-24, showing a growth rate of 9.7%. ... (CGA) and Comptroller and Auditor General of India (CAG) have ... The statistic shows GDP in India from 1987 to 2023, with projections up until 2029. ... Value of PFCE in GDP at current prices India FY 2012-2025; FDI as a share of GDP India 2000-2023; India's Current GDP (FY24): $3.9 trillion India's GDP Growth Rate (FY24): 8.2% Also Read: Unemployment rate in India (2008 to 2023): Current rate, historical trends and more\n",
      "==================================\u001b[1m Ai Message \u001b[0m==================================\n",
      "Tool Calls:\n",
      "  subtract (call_lijrfiVIGDZ3cnqNp6EMuOpy)\n",
      " Call ID: call_lijrfiVIGDZ3cnqNp6EMuOpy\n",
      "  Args:\n",
      "    a: 17730000000000\n",
      "    b: 3900000000000\n",
      "=================================\u001b[1m Tool Message \u001b[0m=================================\n",
      "Name: subtract\n",
      "\n",
      "13830000000000\n",
      "==================================\u001b[1m Ai Message \u001b[0m==================================\n",
      "\n",
      "As of 2023, China's GDP is approximately $17.73 trillion, while India's GDP is about $3.9 trillion. The difference in their GDPs is approximately $13.83 trillion, with China's economy being larger than India's by this amount.\n"
     ]
    }
   ],
   "source": [
    "for m in response[\"messages\"]:\n",
    "    m.pretty_print()"
   ]
  },
  {
   "cell_type": "markdown",
   "id": "4f3f413f",
   "metadata": {},
   "source": [
    "As of 2023, China's GDP is approximately $17.73 trillion, while India's GDP is about $3.9 trillion. The difference in their GDPs is approximately $13.83 trillion, with China's economy being larger than India's by this amount."
   ]
  },
  {
   "cell_type": "code",
   "execution_count": null,
   "id": "269c4f89",
   "metadata": {},
   "outputs": [],
   "source": [
    "project:rag,agent,deployment,modularcoding,ci/cd,git\n",
    "\n",
    "multiagentic collrabtive agent and supoervisor agent\n",
    "\n"
   ]
  },
  {
   "cell_type": "markdown",
   "id": "8da83e52",
   "metadata": {},
   "source": [
    "Reaserch and analsysis react agent: assisgnment\n",
    "1. llm assistant\n",
    "2. take a realtime weather api to check the real time weather detail\n",
    "3. take a realtime api for checking realtime cricket score\n",
    "4. take a tool for analysis the generated data(REPL)python code\n",
    "5. create a report based on the generated data\n",
    "memory\n",
    "human in loop\n",
    "multiagentic flow\n",
    "\n",
    "\n",
    "from next week onwards will implemnt the project"
   ]
  },
  {
   "cell_type": "markdown",
   "id": "c4ec52f0",
   "metadata": {},
   "source": [
    "## 1. langgraph-> memeory saver, human in loop\n",
    "## 2. multiagents"
   ]
  },
  {
   "cell_type": "code",
   "execution_count": 135,
   "id": "f47297f7",
   "metadata": {},
   "outputs": [],
   "source": [
    "\n",
    "from typing import Annotated\n",
    "import operator,json\n",
    "from typing import TypedDict, Annotated, Sequence\n",
    "from typing_extensions import TypedDict\n",
    "from langchain_core.messages import BaseMessage\n",
    "from langgraph.checkpoint.memory import MemorySaver\n",
    "from langgraph.graph import StateGraph,END,START\n",
    "from langgraph.graph.message import add_messages\n",
    "from langgraph.prebuilt import ToolNode, tools_condition\n",
    "from langchain_core.tools import tool\n",
    "from langchain_community.tools.tavily_search import TavilySearchResults"
   ]
  },
  {
   "cell_type": "code",
   "execution_count": 152,
   "id": "1d940360",
   "metadata": {},
   "outputs": [],
   "source": [
    "TAVILY_API_KEY=\"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\""
   ]
  },
  {
   "cell_type": "code",
   "execution_count": 154,
   "id": "87c82fe6",
   "metadata": {},
   "outputs": [],
   "source": [
    "import os\n",
    "os.environ[\"TAVILY_API_KEY\"]=TAVILY_API_KEY"
   ]
  },
  {
   "cell_type": "code",
   "execution_count": 155,
   "id": "02a8be10",
   "metadata": {},
   "outputs": [],
   "source": [
    "@tool\n",
    "def multiply(first_number:int, second_number:int)->int:\n",
    "    \"\"\"multiply two integer number\"\"\"\n",
    "    return first_number * second_number"
   ]
  },
  {
   "cell_type": "code",
   "execution_count": 156,
   "id": "ea569626",
   "metadata": {},
   "outputs": [],
   "source": [
    "@tool\n",
    "def search(query:str):\n",
    "    \"\"\"perform the web search on the user query\"\"\"\n",
    "    tavily=TavilySearchResults(tavily_api_key=\"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\")\n",
    "    result=tavily.invoke(query)\n",
    "    return result\n",
    "     "
   ]
  },
  {
   "cell_type": "code",
   "execution_count": 157,
   "id": "7082a82d",
   "metadata": {},
   "outputs": [
    {
     "data": {
      "text/plain": [
       "[{'title': 'Prime Minister of India - Wikipedia',\n",
       "  'url': 'https://en.wikipedia.org/wiki/Prime_Minister_of_India',\n",
       "  'content': \"Rao, Atal Bihari Vajpayee, Manmohan Singh, and Narendra Modi. Modi is the current prime minister of India, serving since 26 May 2014. [...] Jump to content\\nMain menu\\nSearch\\nDonate\\nCreate account\\nLog in\\nPersonal tools\\nToggle the table of contents\\nPrime Minister of India\\n53 languages\\nArticle\\nTalk\\nRead\\nView source\\nView history\\nTools\\nFrom Wikipedia, the free encyclopedia\\nFor a list of prime ministers, see List of prime ministers of India.\\nPrime Minister of India\\nBhārata kē Pradhānamaṁtrī\\nLogo of The Prime Minister of India\\nFlag of India\\nIncumbent\\nNarendra Modi\\nsince\\xa026 May 2014\\nPrime Minister's Office\\nUnion Council of Ministers [...] Narendra Modi was re-elected as prime minister in 2019 with a bigger mandate than that of 2014. The BJP-led NDA won 354 seats out of which BJP secured 303 seats.[76]\\nParty affiliation\\nSee also: List of prime ministers of India\\nParty   PMs Years in PMO    Name(s) Alliance\\n    Indian National Congress    6[b]    54 years    Jawaharlal Nehru, Lal Bahadur Shastri, Indira Gandhi, Rajiv Gandhi, P. V. Narasimha Rao and Manmohan Singh[b] \\nDMK, CPI and CPI (M) (1969–1971)\\nDMK (1971–1976)\",\n",
       "  'score': 0.8827621},\n",
       " {'title': \"PM Sangrahlaya - a Tribute to India's Prime Ministers\",\n",
       "  'url': 'https://www.pmsangrahalaya.gov.in/prime-ministers-of-india',\n",
       "  'content': 'Shri Narendra Modi is the current and the fourth longest-serving Prime Minister of India. He served as the Chief Minister of Gujarat for 14 years and was',\n",
       "  'score': 0.83710164},\n",
       " {'title': 'Narendra Modi - Wikipedia',\n",
       "  'url': 'https://en.wikipedia.org/wiki/Narendra_Modi',\n",
       "  'content': \"Narendra Damodardas Modi[a] (born 17 September 1950)[b] is an Indian politician who has served as the prime minister of India since 2014. Modi was the chief minister of Gujarat from 2001 to 2014 and is the member of parliament (MP) for Varanasi. He is a member of the Bharatiya Janata Party (BJP) and of the Rashtriya Swayamsevak Sangh (RSS), a right-wing Hindu nationalist paramilitary volunteer organisation. He is the longest-serving prime minister outside the Indian National Congress.[4] [...] After the Bharatiya Janata Party-led National Democratic Alliance (NDA) won a landslide in the 2014 Lok Sabha election, Modi was sworn in as Prime Minister of India on 26 May 2014, becoming the first Indian PM to be born after the country's independence from the British Empire in 1947.[247] Modi's second term as PM began in 2019 following the NDA's 2019 Lok Sabha election win. On 6 December 2020, he became the fourth-longest-serving Prime Minister of India and the longest-serving non-Congress [...] Prime Minister (2014–present)\",\n",
       "  'score': 0.7915799},\n",
       " {'title': 'Council of Ministers - National Portal of India',\n",
       "  'url': 'https://www.india.gov.in/my-government/whos-who/council-ministers',\n",
       "  'content': \"Skip to main content\\n-A\\nA\\n+A\\nA\\nA\\nहिन्दी\\nTOPICS\\nSERVICES\\nMY GOVERNMENT\\nPEOPLE GROUPS\\nINDIA AT A GLANCE\\nAdvanced Search\\nMOST SEARCHED\\nBirth Certificate\\nDriving Licence\\nPan card\\nHomeMy GovernmentWho's WhoCouncil of Ministers\\nCouncil of Ministers\\nWho's Who\\nPresident\\nVice-President\\nPrime Minister\\nCouncil of Ministers\\nGovernors\\nLt. Governors & Administrators\\nChief Ministers\\nJudges of Supreme Court\\nChiefs of Armed Forces\\nMembers of Parliament\\nMLAs/MLCs\\nPrime Minister\\nShri Narendra Modi\",\n",
       "  'score': 0.6852132},\n",
       " {'title': 'Narendra Modi | Biography, Career, & Facts - Britannica',\n",
       "  'url': 'https://www.britannica.com/biography/Narendra-Modi',\n",
       "  'content': \"Narendra ModiIndian Prime Minister Narendra Modi was elected to the office in 2014. He won a second term in 2019 and was sworn in for a third term on June 9, 2024.(more) [...] Where Does the Name Europe Come From?\\nContents\\nPolitics, Law & Government World Leaders Prime Ministers\\n\\nNarendra Modi Chief minister of Gujarat state Narendra Modi speaking at the World Economic Forum's India Economic Summit, November 2008. Modi became the prime minister of India in 2014. (more)\\nNarendra Modi\\nprime minister of India\\nAsk the Chatbot a Question\\nMore Actions\\nPrint\\nprint Print\\nPlease select which sections you would like to print:\\n\\nTable Of Contents [...] Narendra Modi (born September 17, 1950, Vadnagar, India) is an Indian politician and government official who rose to become a senior leader of the Bharatiya Janata Party (BJP). In 2014 he led his party to victory in elections to the Lok Sabha (lower chamber of the Indian parliament), after which he was sworn in as prime minister of India. Prior to that he had served (2001–14) as chief minister (head of government) of Gujarat state in western India. The Modi-led BJP (and the BJP-led NDA\",\n",
       "  'score': 0.6609831}]"
      ]
     },
     "execution_count": 157,
     "metadata": {},
     "output_type": "execute_result"
    }
   ],
   "source": [
    "search.invoke(\"who is a current PM in india?\")"
   ]
  },
  {
   "cell_type": "code",
   "execution_count": 158,
   "id": "205e5ebb",
   "metadata": {},
   "outputs": [],
   "source": [
    "tools=[search,multiply]"
   ]
  },
  {
   "cell_type": "code",
   "execution_count": 159,
   "id": "3363a5a1",
   "metadata": {},
   "outputs": [],
   "source": [
    "model_with_tools=openai_model.bind_tools(tools)"
   ]
  },
  {
   "cell_type": "code",
   "execution_count": 160,
   "id": "51c7ef4f",
   "metadata": {},
   "outputs": [
    {
     "data": {
      "text/plain": [
       "AIMessage(content='', additional_kwargs={'tool_calls': [{'id': 'call_7zN3c1xoyASEnlZKTE0RvR9G', 'function': {'arguments': '{\"query\":\"current Prime Minister of Japan 2023\"}', 'name': 'search'}, 'type': 'function'}], 'refusal': None}, response_metadata={'token_usage': {'completion_tokens': 21, 'prompt_tokens': 78, 'total_tokens': 99, 'completion_tokens_details': {'accepted_prediction_tokens': 0, 'audio_tokens': 0, 'reasoning_tokens': 0, 'rejected_prediction_tokens': 0}, 'prompt_tokens_details': {'audio_tokens': 0, 'cached_tokens': 0}}, 'model_name': 'gpt-4o-2024-08-06', 'system_fingerprint': 'fp_22890b9c0a', 'finish_reason': 'tool_calls', 'logprobs': None}, id='run-1063dab3-1c5e-47c2-9f23-567fcb0427f2-0', tool_calls=[{'name': 'search', 'args': {'query': 'current Prime Minister of Japan 2023'}, 'id': 'call_7zN3c1xoyASEnlZKTE0RvR9G', 'type': 'tool_call'}], usage_metadata={'input_tokens': 78, 'output_tokens': 21, 'total_tokens': 99, 'input_token_details': {'audio': 0, 'cache_read': 0}, 'output_token_details': {'audio': 0, 'reasoning': 0}})"
      ]
     },
     "execution_count": 160,
     "metadata": {},
     "output_type": "execute_result"
    }
   ],
   "source": [
    "model_with_tools.invoke(\"who is a cuurent pm of japan?\")"
   ]
  },
  {
   "cell_type": "code",
   "execution_count": 161,
   "id": "777ae390",
   "metadata": {},
   "outputs": [
    {
     "data": {
      "text/plain": [
       "[{'name': 'search',\n",
       "  'args': {'query': 'current Prime Minister of Japan 2023'},\n",
       "  'id': 'call_4QEr6Rc6WtcAJJc2zzpl7ksQ',\n",
       "  'type': 'tool_call'}]"
      ]
     },
     "execution_count": 161,
     "metadata": {},
     "output_type": "execute_result"
    }
   ],
   "source": [
    "model_with_tools.invoke(\"who is a cuurent pm of japan?\").tool_calls"
   ]
  },
  {
   "cell_type": "code",
   "execution_count": 165,
   "id": "da9237f0",
   "metadata": {},
   "outputs": [],
   "source": [
    "tool_mapping={tool.name: tool for tool in tools}"
   ]
  },
  {
   "cell_type": "code",
   "execution_count": 166,
   "id": "c5148ea5",
   "metadata": {},
   "outputs": [
    {
     "data": {
      "text/plain": [
       "{'search': StructuredTool(name='search', description='perform the web search on the user query', args_schema=<class 'langchain_core.utils.pydantic.search'>, func=<function search at 0x000001A1C468FF40>),\n",
       " 'multiply': StructuredTool(name='multiply', description='multiply two integer number', args_schema=<class 'langchain_core.utils.pydantic.multiply'>, func=<function multiply at 0x000001A1C703FE20>)}"
      ]
     },
     "execution_count": 166,
     "metadata": {},
     "output_type": "execute_result"
    }
   ],
   "source": [
    "tool_mapping"
   ]
  },
  {
   "cell_type": "code",
   "execution_count": 167,
   "id": "8ed66455",
   "metadata": {},
   "outputs": [],
   "source": [
    "response=model_with_tools.invoke(\"who is a current president of uk?\")"
   ]
  },
  {
   "cell_type": "code",
   "execution_count": 168,
   "id": "128d5625",
   "metadata": {},
   "outputs": [
    {
     "data": {
      "text/plain": [
       "AIMessage(content='', additional_kwargs={'tool_calls': [{'id': 'call_tanGhlPkC5GFIsk5g68KSgMd', 'function': {'arguments': '{\"query\":\"current president of UK 2023\"}', 'name': 'search'}, 'type': 'function'}], 'refusal': None}, response_metadata={'token_usage': {'completion_tokens': 20, 'prompt_tokens': 77, 'total_tokens': 97, 'completion_tokens_details': {'accepted_prediction_tokens': 0, 'audio_tokens': 0, 'reasoning_tokens': 0, 'rejected_prediction_tokens': 0}, 'prompt_tokens_details': {'audio_tokens': 0, 'cached_tokens': 0}}, 'model_name': 'gpt-4o-2024-08-06', 'system_fingerprint': 'fp_22890b9c0a', 'finish_reason': 'tool_calls', 'logprobs': None}, id='run-4582c853-1692-4cce-bb41-29d0140a7c6d-0', tool_calls=[{'name': 'search', 'args': {'query': 'current president of UK 2023'}, 'id': 'call_tanGhlPkC5GFIsk5g68KSgMd', 'type': 'tool_call'}], usage_metadata={'input_tokens': 77, 'output_tokens': 20, 'total_tokens': 97, 'input_token_details': {'audio': 0, 'cache_read': 0}, 'output_token_details': {'audio': 0, 'reasoning': 0}})"
      ]
     },
     "execution_count": 168,
     "metadata": {},
     "output_type": "execute_result"
    }
   ],
   "source": [
    "response"
   ]
  },
  {
   "cell_type": "code",
   "execution_count": 170,
   "id": "8c1b8f8e",
   "metadata": {},
   "outputs": [],
   "source": [
    "tool_details=response.additional_kwargs"
   ]
  },
  {
   "cell_type": "code",
   "execution_count": 174,
   "id": "e4b5ceb3",
   "metadata": {},
   "outputs": [],
   "source": [
    "tool_details=tool_details.get(\"tool_calls\")"
   ]
  },
  {
   "cell_type": "code",
   "execution_count": 176,
   "id": "18945983",
   "metadata": {},
   "outputs": [
    {
     "data": {
      "text/plain": [
       "'search'"
      ]
     },
     "execution_count": 176,
     "metadata": {},
     "output_type": "execute_result"
    }
   ],
   "source": [
    "tool_details[0][\"function\"][\"name\"]"
   ]
  },
  {
   "cell_type": "code",
   "execution_count": 175,
   "id": "b51c797a",
   "metadata": {},
   "outputs": [
    {
     "data": {
      "text/plain": [
       "'{\"query\":\"current president of UK 2023\"}'"
      ]
     },
     "execution_count": 175,
     "metadata": {},
     "output_type": "execute_result"
    }
   ],
   "source": [
    "tool_details[0][\"function\"][\"arguments\"]"
   ]
  },
  {
   "cell_type": "code",
   "execution_count": 177,
   "id": "e1a8a102",
   "metadata": {},
   "outputs": [
    {
     "data": {
      "text/plain": [
       "{'query': 'current president of UK 2023'}"
      ]
     },
     "execution_count": 177,
     "metadata": {},
     "output_type": "execute_result"
    }
   ],
   "source": [
    "json.loads(tool_details[0][\"function\"][\"arguments\"])"
   ]
  },
  {
   "cell_type": "code",
   "execution_count": 179,
   "id": "ecb1eee2",
   "metadata": {},
   "outputs": [
    {
     "data": {
      "text/plain": [
       "[{'title': 'Rishi Sunak - Wikipedia',\n",
       "  'url': 'https://en.wikipedia.org/wiki/Rishi_Sunak',\n",
       "  'content': 'Sunak selected his cabinet ministers after his appointment as prime minister. Jeremy Hunt was appointed Chancellor of the Exchequer, and Dominic Raab was also re-appointed as deputy prime minister and Justice Secretary, he later resigned from these roles in April 2023 and was replaced by Oliver Dowden. James Cleverly was appointed Foreign Secretary with Suella Braverman as Home Secretary. Ben Wallace was appointed Secretary of State for Defence. Michael Gove was appointed Levelling Up [...] ^ Sparrow, Andrew (7 February 2023). \"Rishi Sunak to hold limited cabinet shuffle – UK politics live\". The Guardian.\\n^ Sunak, Rishi (7 February 2023). Making Government Deliver for the British People (PDF). UK Government. Archived (PDF) from the original on 7 February 2023. Retrieved 7 February 2023. [...] Sunak was faced with the task of rebuilding the Conservatives\\' reputation which had been significantly damaged by the controversies and scandals of the previous year and the Truss ministry. While their poll ratings recovered slightly over the following months, it still wasn\\'t enough to bring them back to pre-Truss levels. Sunak contested his first local elections as leader on 4 May 2023, where the Conservatives suffered heavy losses. Two months later, on 20 July 2023, they lost two seats in',\n",
       "  'score': 0.5608546},\n",
       " {'title': 'Prime Minister of the United Kingdom - Wikipedia',\n",
       "  'url': 'https://en.wikipedia.org/wiki/Prime_Minister_of_the_United_Kingdom',\n",
       "  'content': \"KingdomEngland and WalesScotlandNorthern IrelandshowBank of EnglandGovernorAndrew BaileyDeputy governorsMonetary Policy CommitteeCurrenciesBanknotesCoinsshowElections and referendumsUK Parliament constituencies (2023 Periodic Review of Westminster constituencies)Political partiesPolitical Parties, Elections and Referendums Act 2000Dissolution and Calling of Parliament Act 2022Scottish Parliament constituencies and electoral regionsSenedd constituencies and electoral regionsUK general [...] |\\n| show\\n*   v\\n*   t\\n*   e\\nList of current heads of government in the United Kingdom\\n|\\n| --- |\\n| His Majesty's Government | \\nMajorityLabourPrime MinisterKeir Starmer (Labour)\\n|\\n| Northern Ireland Executive | \\nPower-sharingDUP / Sinn Féin / SDLP / UUP / APNIFirst MinisterMichelle O'Neill (Sinn Féin)Deputy First MinisterEmma Little-Pengelly (DUP)\\n|\\n| Scottish Government | \\nMinorityScottish National PartyFirst MinisterJohn Swinney (SNP)\\n|\\n| Welsh Government | [...] (L)Prime Minister (list)Keir Starmer (L)Deputy Prime MinisterAngela Rayner (L)DepartmentsMinistersAgenciesshowLegislatureUK Parliament(King-in-Parliament)KingCharles IIIHouse of LordsLord SpeakerThe Lord McFall of AlcluithHouse of CommonsSpeakerSir Lindsay HoyleLeader of the OppositionKemi Badenoch (C)59th ParliamentOppositionMPsList of MPsshowJudiciaryCharles III(King-on-the-Bench)Supreme CourtPresidentThe Lord ReedDeputy PresidentThe Lord HodgeJustices of the Supreme CourtUnited\",\n",
       "  'score': 0.3337208},\n",
       " {'title': 'Rishi Sunak | Biography, Wife, Politics, & Net Worth - Britannica',\n",
       "  'url': 'https://www.britannica.com/biography/Rishi-Sunak',\n",
       "  'content': 'In November 2023 Sunak sacked controversial home secretary Suella Braverman as part of a broader cabinet reshuffle that saw the stunning return to government of former prime minister David Cameron as foreign secretary. Cameron, who was elevated to the House of Lords and created Lord Cameron of Chipping Norton in order to take his seat in the cabinet, seemed an unusual choice, as Sunak had previously endeavored to characterize his government as a break with the past. The return of Cameron to [...] In March 2023 Sunak held off a Tory rebellion and passed the so-called Windsor Framework, a post-Brexit deal to regulate trade between Northern Ireland, the rest of the United Kingdom, and the European Union. During his campaign to drum up support for the bill, Sunak stressed the “privileged access, not just to the U.K. home market, which is enormous, but also the EU single market” that Northern Ireland would enjoy under the framework. Critics were quick to observe that, prior to Brexit, the',\n",
       "  'score': 0.29405832},\n",
       " {'title': \"Keir Starmer confirmed as Britain's new prime minister after Labour ...\",\n",
       "  'url': 'https://www.nbcnews.com/news/world/live-blog/uk-general-election-live-results-britain-starmer-win-labour-rcna160339',\n",
       "  'content': 'On his eighth attempt, pro-Brexit, anti-immigration campaigner Nigel Farage has won a seat in Britain\\'s Parliament. The Reform U.K. leader and friend of Donald Trump will represent Clacton, a fading seaside town in southern England. [...] Smaller parties such as Reform UK performed much better than expected, with the party of Donald Trump ally Nigel Farage claiming more than 14% of the vote, while the Liberal Democrats took 12% and the Greens received 7%.\\nShow more\\nDivisions among British voters appear to reflect the widespread disillusionment many across the country felt in the lead-up to the election, both with the country’s Conservative leadership and with the alternatives. [...] David Lammy, who has represented Tottenham since 2000, is likely to serve as foreign secretary after being appointed to Starmer\\'s then-shadow Cabinet in 2021. Earlier this year, the long-term MP walked back historical remarks calling Donald Trump \"a neo-Nazi sympathizer,\" promising to find \"common cause\" with the former president if he wins re-election.',\n",
       "  'score': 0.2896534},\n",
       " {'title': 'Ministers - GOV.UK',\n",
       "  'url': 'https://www.gov.uk/government/ministers',\n",
       "  'content': 'Rachel Reeves MP\\nThe Rt Hon\\nChancellor of the Exchequer\\n\\n\\n\\nPat McFadden MP\\nThe Rt Hon\\nChancellor of the Duchy of Lancaster, Minister for Intergovernmental Relations\\n\\n\\n\\nDavid Lammy MP\\nThe Rt Hon\\nSecretary of State for Foreign, Commonwealth and Development Affairs\\n\\n\\n\\nYvette Cooper MP\\nThe Rt Hon\\nSecretary of State for the Home Department\\n\\n\\n\\nJohn Healey MP\\nThe Rt Hon\\nSecretary of State for Defence\\n\\n\\n\\nShabana Mahmood MP\\nThe Rt Hon\\nLord Chancellor and Secretary of State for Justice',\n",
       "  'score': 0.24731465}]"
      ]
     },
     "execution_count": 179,
     "metadata": {},
     "output_type": "execute_result"
    }
   ],
   "source": [
    "tool_mapping[tool_details[0][\"function\"][\"name\"]].invoke(json.loads(tool_details[0][\"function\"][\"arguments\"]))"
   ]
  },
  {
   "cell_type": "code",
   "execution_count": 136,
   "id": "15d895f9",
   "metadata": {},
   "outputs": [],
   "source": [
    "class AgentState(TypedDict):\n",
    "    messages:Annotated[Sequence[BaseMessage], operator.add]"
   ]
  },
  {
   "cell_type": "code",
   "execution_count": null,
   "id": "1bdcca11",
   "metadata": {},
   "outputs": [],
   "source": [
    "def invoke_model(state:AgentState):\n",
    "    message=state[\"messages\"]\n",
    "    question=message[-1]\n",
    "    return {\"messages\": [model_with_tool.invoke(question)]}"
   ]
  },
  {
   "cell_type": "code",
   "execution_count": 162,
   "id": "dff3f8fb",
   "metadata": {},
   "outputs": [],
   "source": [
    "def invoke_tool(state:AgentState):\n",
    "    tool_details=state[\"messages\"][-1].additional_kwargs.get(\"tool_calls\",[])[0]\n",
    "    \n",
    "    if tool_details is None:\n",
    "        raise Exception(\"no tool call found\")\n",
    "    \n",
    "    print()\n",
    "    \n",
    "    if tool_details.get(\"function\").get(\"name\")==\"search\":\n",
    "        response=input(prompt=f\"[y/n] continue with expensive web search\")\n",
    "        if response==\"n\":\n",
    "            raise Exception(\"web search discarded\")\n",
    "    \n",
    "    response = tool_mapping[tool_details['function']['name']].invoke(json.loads(tool_details.get(\"function\").get(\"arguments\")))\n",
    "    return {\"messages\" : [response]}"
   ]
  },
  {
   "cell_type": "code",
   "execution_count": null,
   "id": "1e925346",
   "metadata": {},
   "outputs": [],
   "source": [
    "def router(state:AgentState):\n",
    "    tool_calls=state[\"messages\"][-1].additional_kwargs.get(\"tool_calls\",[])\n",
    "    if len(tool_calls):\n",
    "        return \"tool\"\n",
    "    else:\n",
    "        return \"end\""
   ]
  },
  {
   "cell_type": "code",
   "execution_count": 140,
   "id": "9975bbaf",
   "metadata": {},
   "outputs": [],
   "source": [
    "graph=StateGraph(AgentState)"
   ]
  },
  {
   "cell_type": "code",
   "execution_count": 141,
   "id": "2baeeb35",
   "metadata": {},
   "outputs": [
    {
     "data": {
      "text/plain": [
       "<langgraph.graph.state.StateGraph at 0x1a1c5a70670>"
      ]
     },
     "execution_count": 141,
     "metadata": {},
     "output_type": "execute_result"
    }
   ],
   "source": [
    "graph.add_node(\"ai_assistant\",invoke_model)\n",
    "graph.add_node(\"tool\",invoke_tool)"
   ]
  },
  {
   "cell_type": "code",
   "execution_count": 142,
   "id": "6ea37701",
   "metadata": {},
   "outputs": [
    {
     "data": {
      "text/plain": [
       "<langgraph.graph.state.StateGraph at 0x1a1c5a70670>"
      ]
     },
     "execution_count": 142,
     "metadata": {},
     "output_type": "execute_result"
    }
   ],
   "source": [
    "graph.add_conditional_edges(\"ai_assistant\",\n",
    "                            router,\n",
    "                            {\"tool\":\"tool\",\n",
    "                             \"end\":END})"
   ]
  },
  {
   "cell_type": "code",
   "execution_count": 143,
   "id": "b69381ba",
   "metadata": {},
   "outputs": [
    {
     "data": {
      "text/plain": [
       "<langgraph.graph.state.StateGraph at 0x1a1c5a70670>"
      ]
     },
     "execution_count": 143,
     "metadata": {},
     "output_type": "execute_result"
    }
   ],
   "source": [
    "graph.add_edge(\"tool\", END)\n",
    "\n",
    "#graph.add_edge(\"tool\", \"ai_assistant\")\n",
    "\n",
    "graph.set_entry_point(\"ai_assistant\")"
   ]
  },
  {
   "cell_type": "code",
   "execution_count": 144,
   "id": "dfaf71b3",
   "metadata": {},
   "outputs": [],
   "source": [
    "app=graph.compile()"
   ]
  },
  {
   "cell_type": "code",
   "execution_count": 145,
   "id": "7810dff3",
   "metadata": {},
   "outputs": [
    {
     "data": {
      "image/png": "[encoded data removed]",
      "text/plain": [
       "<IPython.core.display.Image object>"
      ]
     },
     "metadata": {},
     "output_type": "display_data"
    }
   ],
   "source": [
    "display(Image(app.get_graph().draw_mermaid_png()))"
   ]
  },
  {
   "cell_type": "code",
   "execution_count": 146,
   "id": "537fd9cf",
   "metadata": {},
   "outputs": [
    {
     "ename": "KeyError",
     "evalue": "None",
     "output_type": "error",
     "traceback": [
      "\u001b[1;31m---------------------------------------------------------------------------\u001b[0m",
      "\u001b[1;31mKeyError\u001b[0m                                  Traceback (most recent call last)",
      "Cell \u001b[1;32mIn[146], line 1\u001b[0m\n\u001b[1;32m----> 1\u001b[0m \u001b[43mapp\u001b[49m\u001b[38;5;241;43m.\u001b[39;49m\u001b[43minvoke\u001b[49m\u001b[43m(\u001b[49m\u001b[43m{\u001b[49m\u001b[38;5;124;43m\"\u001b[39;49m\u001b[38;5;124;43mmessages\u001b[39;49m\u001b[38;5;124;43m\"\u001b[39;49m\u001b[43m:\u001b[49m\u001b[43m \u001b[49m\u001b[43m[\u001b[49m\u001b[38;5;124;43m\"\u001b[39;49m\u001b[38;5;124;43mwho is upcoming president of USA?\u001b[39;49m\u001b[38;5;124;43m\"\u001b[39;49m\u001b[43m]\u001b[49m\u001b[43m}\u001b[49m\u001b[43m)\u001b[49m\n",
      "File \u001b[1;32mc:\\Complete_Content\\GENERATIVEAI\\NEW_E2E_COURSE\\genai_bootcamp\\env\\lib\\site-packages\\langgraph\\pregel\\__init__.py:2688\u001b[0m, in \u001b[0;36mPregel.invoke\u001b[1;34m(self, input, config, stream_mode, output_keys, interrupt_before, interrupt_after, debug, **kwargs)\u001b[0m\n\u001b[0;32m   2686\u001b[0m \u001b[38;5;28;01melse\u001b[39;00m:\n\u001b[0;32m   2687\u001b[0m     chunks \u001b[38;5;241m=\u001b[39m []\n\u001b[1;32m-> 2688\u001b[0m \u001b[38;5;28;01mfor\u001b[39;00m chunk \u001b[38;5;129;01min\u001b[39;00m \u001b[38;5;28mself\u001b[39m\u001b[38;5;241m.\u001b[39mstream(\n\u001b[0;32m   2689\u001b[0m     \u001b[38;5;28minput\u001b[39m,\n\u001b[0;32m   2690\u001b[0m     config,\n\u001b[0;32m   2691\u001b[0m     stream_mode\u001b[38;5;241m=\u001b[39mstream_mode,\n\u001b[0;32m   2692\u001b[0m     output_keys\u001b[38;5;241m=\u001b[39moutput_keys,\n\u001b[0;32m   2693\u001b[0m     interrupt_before\u001b[38;5;241m=\u001b[39minterrupt_before,\n\u001b[0;32m   2694\u001b[0m     interrupt_after\u001b[38;5;241m=\u001b[39minterrupt_after,\n\u001b[0;32m   2695\u001b[0m     debug\u001b[38;5;241m=\u001b[39mdebug,\n\u001b[0;32m   2696\u001b[0m     \u001b[38;5;241m*\u001b[39m\u001b[38;5;241m*\u001b[39mkwargs,\n\u001b[0;32m   2697\u001b[0m ):\n\u001b[0;32m   2698\u001b[0m     \u001b[38;5;28;01mif\u001b[39;00m stream_mode \u001b[38;5;241m==\u001b[39m \u001b[38;5;124m\"\u001b[39m\u001b[38;5;124mvalues\u001b[39m\u001b[38;5;124m\"\u001b[39m:\n\u001b[0;32m   2699\u001b[0m         latest \u001b[38;5;241m=\u001b[39m chunk\n",
      "File \u001b[1;32mc:\\Complete_Content\\GENERATIVEAI\\NEW_E2E_COURSE\\genai_bootcamp\\env\\lib\\site-packages\\langgraph\\pregel\\__init__.py:2340\u001b[0m, in \u001b[0;36mPregel.stream\u001b[1;34m(self, input, config, stream_mode, output_keys, interrupt_before, interrupt_after, debug, subgraphs)\u001b[0m\n\u001b[0;32m   2334\u001b[0m     \u001b[38;5;66;03m# Similarly to Bulk Synchronous Parallel / Pregel model\u001b[39;00m\n\u001b[0;32m   2335\u001b[0m     \u001b[38;5;66;03m# computation proceeds in steps, while there are channel updates.\u001b[39;00m\n\u001b[0;32m   2336\u001b[0m     \u001b[38;5;66;03m# Channel updates from step N are only visible in step N+1\u001b[39;00m\n\u001b[0;32m   2337\u001b[0m     \u001b[38;5;66;03m# channels are guaranteed to be immutable for the duration of the step,\u001b[39;00m\n\u001b[0;32m   2338\u001b[0m     \u001b[38;5;66;03m# with channel updates applied only at the transition between steps.\u001b[39;00m\n\u001b[0;32m   2339\u001b[0m     \u001b[38;5;28;01mwhile\u001b[39;00m loop\u001b[38;5;241m.\u001b[39mtick(input_keys\u001b[38;5;241m=\u001b[39m\u001b[38;5;28mself\u001b[39m\u001b[38;5;241m.\u001b[39minput_channels):\n\u001b[1;32m-> 2340\u001b[0m         \u001b[38;5;28;01mfor\u001b[39;00m _ \u001b[38;5;129;01min\u001b[39;00m runner\u001b[38;5;241m.\u001b[39mtick(\n\u001b[0;32m   2341\u001b[0m             loop\u001b[38;5;241m.\u001b[39mtasks\u001b[38;5;241m.\u001b[39mvalues(),\n\u001b[0;32m   2342\u001b[0m             timeout\u001b[38;5;241m=\u001b[39m\u001b[38;5;28mself\u001b[39m\u001b[38;5;241m.\u001b[39mstep_timeout,\n\u001b[0;32m   2343\u001b[0m             retry_policy\u001b[38;5;241m=\u001b[39m\u001b[38;5;28mself\u001b[39m\u001b[38;5;241m.\u001b[39mretry_policy,\n\u001b[0;32m   2344\u001b[0m             get_waiter\u001b[38;5;241m=\u001b[39mget_waiter,\n\u001b[0;32m   2345\u001b[0m         ):\n\u001b[0;32m   2346\u001b[0m             \u001b[38;5;66;03m# emit output\u001b[39;00m\n\u001b[0;32m   2347\u001b[0m             \u001b[38;5;28;01myield from\u001b[39;00m output()\n\u001b[0;32m   2348\u001b[0m \u001b[38;5;66;03m# emit output\u001b[39;00m\n",
      "File \u001b[1;32mc:\\Complete_Content\\GENERATIVEAI\\NEW_E2E_COURSE\\genai_bootcamp\\env\\lib\\site-packages\\langgraph\\pregel\\runner.py:158\u001b[0m, in \u001b[0;36mPregelRunner.tick\u001b[1;34m(self, tasks, reraise, timeout, retry_policy, get_waiter)\u001b[0m\n\u001b[0;32m    156\u001b[0m t \u001b[38;5;241m=\u001b[39m tasks[\u001b[38;5;241m0\u001b[39m]\n\u001b[0;32m    157\u001b[0m \u001b[38;5;28;01mtry\u001b[39;00m:\n\u001b[1;32m--> 158\u001b[0m     \u001b[43mrun_with_retry\u001b[49m\u001b[43m(\u001b[49m\n\u001b[0;32m    159\u001b[0m \u001b[43m        \u001b[49m\u001b[43mt\u001b[49m\u001b[43m,\u001b[49m\n\u001b[0;32m    160\u001b[0m \u001b[43m        \u001b[49m\u001b[43mretry_policy\u001b[49m\u001b[43m,\u001b[49m\n\u001b[0;32m    161\u001b[0m \u001b[43m        \u001b[49m\u001b[43mconfigurable\u001b[49m\u001b[38;5;241;43m=\u001b[39;49m\u001b[43m{\u001b[49m\n\u001b[0;32m    162\u001b[0m \u001b[43m            \u001b[49m\u001b[43mCONFIG_KEY_CALL\u001b[49m\u001b[43m:\u001b[49m\u001b[43m \u001b[49m\u001b[43mpartial\u001b[49m\u001b[43m(\u001b[49m\n\u001b[0;32m    163\u001b[0m \u001b[43m                \u001b[49m\u001b[43m_call\u001b[49m\u001b[43m,\u001b[49m\n\u001b[0;32m    164\u001b[0m \u001b[43m                \u001b[49m\u001b[43mweakref\u001b[49m\u001b[38;5;241;43m.\u001b[39;49m\u001b[43mref\u001b[49m\u001b[43m(\u001b[49m\u001b[43mt\u001b[49m\u001b[43m)\u001b[49m\u001b[43m,\u001b[49m\n\u001b[0;32m    165\u001b[0m \u001b[43m                \u001b[49m\u001b[43mretry\u001b[49m\u001b[38;5;241;43m=\u001b[39;49m\u001b[43mretry_policy\u001b[49m\u001b[43m,\u001b[49m\n\u001b[0;32m    166\u001b[0m \u001b[43m                \u001b[49m\u001b[43mfutures\u001b[49m\u001b[38;5;241;43m=\u001b[39;49m\u001b[43mweakref\u001b[49m\u001b[38;5;241;43m.\u001b[39;49m\u001b[43mref\u001b[49m\u001b[43m(\u001b[49m\u001b[43mfutures\u001b[49m\u001b[43m)\u001b[49m\u001b[43m,\u001b[49m\n\u001b[0;32m    167\u001b[0m \u001b[43m                \u001b[49m\u001b[43mschedule_task\u001b[49m\u001b[38;5;241;43m=\u001b[39;49m\u001b[38;5;28;43mself\u001b[39;49m\u001b[38;5;241;43m.\u001b[39;49m\u001b[43mschedule_task\u001b[49m\u001b[43m,\u001b[49m\n\u001b[0;32m    168\u001b[0m \u001b[43m                \u001b[49m\u001b[43msubmit\u001b[49m\u001b[38;5;241;43m=\u001b[39;49m\u001b[38;5;28;43mself\u001b[39;49m\u001b[38;5;241;43m.\u001b[39;49m\u001b[43msubmit\u001b[49m\u001b[43m,\u001b[49m\n\u001b[0;32m    169\u001b[0m \u001b[43m                \u001b[49m\u001b[43mreraise\u001b[49m\u001b[38;5;241;43m=\u001b[39;49m\u001b[43mreraise\u001b[49m\u001b[43m,\u001b[49m\n\u001b[0;32m    170\u001b[0m \u001b[43m            \u001b[49m\u001b[43m)\u001b[49m\u001b[43m,\u001b[49m\n\u001b[0;32m    171\u001b[0m \u001b[43m        \u001b[49m\u001b[43m}\u001b[49m\u001b[43m,\u001b[49m\n\u001b[0;32m    172\u001b[0m \u001b[43m    \u001b[49m\u001b[43m)\u001b[49m\n\u001b[0;32m    173\u001b[0m     \u001b[38;5;28mself\u001b[39m\u001b[38;5;241m.\u001b[39mcommit(t, \u001b[38;5;28;01mNone\u001b[39;00m)\n\u001b[0;32m    174\u001b[0m \u001b[38;5;28;01mexcept\u001b[39;00m \u001b[38;5;167;01mException\u001b[39;00m \u001b[38;5;28;01mas\u001b[39;00m exc:\n",
      "File \u001b[1;32mc:\\Complete_Content\\GENERATIVEAI\\NEW_E2E_COURSE\\genai_bootcamp\\env\\lib\\site-packages\\langgraph\\pregel\\retry.py:40\u001b[0m, in \u001b[0;36mrun_with_retry\u001b[1;34m(task, retry_policy, configurable)\u001b[0m\n\u001b[0;32m     38\u001b[0m     task\u001b[38;5;241m.\u001b[39mwrites\u001b[38;5;241m.\u001b[39mclear()\n\u001b[0;32m     39\u001b[0m     \u001b[38;5;66;03m# run the task\u001b[39;00m\n\u001b[1;32m---> 40\u001b[0m     \u001b[38;5;28;01mreturn\u001b[39;00m \u001b[43mtask\u001b[49m\u001b[38;5;241;43m.\u001b[39;49m\u001b[43mproc\u001b[49m\u001b[38;5;241;43m.\u001b[39;49m\u001b[43minvoke\u001b[49m\u001b[43m(\u001b[49m\u001b[43mtask\u001b[49m\u001b[38;5;241;43m.\u001b[39;49m\u001b[43minput\u001b[49m\u001b[43m,\u001b[49m\u001b[43m \u001b[49m\u001b[43mconfig\u001b[49m\u001b[43m)\u001b[49m\n\u001b[0;32m     41\u001b[0m \u001b[38;5;28;01mexcept\u001b[39;00m ParentCommand \u001b[38;5;28;01mas\u001b[39;00m exc:\n\u001b[0;32m     42\u001b[0m     ns: \u001b[38;5;28mstr\u001b[39m \u001b[38;5;241m=\u001b[39m config[CONF][CONFIG_KEY_CHECKPOINT_NS]\n",
      "File \u001b[1;32mc:\\Complete_Content\\GENERATIVEAI\\NEW_E2E_COURSE\\genai_bootcamp\\env\\lib\\site-packages\\langgraph\\utils\\runnable.py:608\u001b[0m, in \u001b[0;36mRunnableSeq.invoke\u001b[1;34m(self, input, config, **kwargs)\u001b[0m\n\u001b[0;32m    606\u001b[0m             \u001b[38;5;28minput\u001b[39m \u001b[38;5;241m=\u001b[39m step\u001b[38;5;241m.\u001b[39minvoke(\u001b[38;5;28minput\u001b[39m, config, \u001b[38;5;241m*\u001b[39m\u001b[38;5;241m*\u001b[39mkwargs)\n\u001b[0;32m    607\u001b[0m         \u001b[38;5;28;01melse\u001b[39;00m:\n\u001b[1;32m--> 608\u001b[0m             \u001b[38;5;28minput\u001b[39m \u001b[38;5;241m=\u001b[39m \u001b[43mstep\u001b[49m\u001b[38;5;241;43m.\u001b[39;49m\u001b[43minvoke\u001b[49m\u001b[43m(\u001b[49m\u001b[38;5;28;43minput\u001b[39;49m\u001b[43m,\u001b[49m\u001b[43m \u001b[49m\u001b[43mconfig\u001b[49m\u001b[43m)\u001b[49m\n\u001b[0;32m    609\u001b[0m \u001b[38;5;66;03m# finish the root run\u001b[39;00m\n\u001b[0;32m    610\u001b[0m \u001b[38;5;28;01mexcept\u001b[39;00m \u001b[38;5;167;01mBaseException\u001b[39;00m \u001b[38;5;28;01mas\u001b[39;00m e:\n",
      "File \u001b[1;32mc:\\Complete_Content\\GENERATIVEAI\\NEW_E2E_COURSE\\genai_bootcamp\\env\\lib\\site-packages\\langgraph\\utils\\runnable.py:371\u001b[0m, in \u001b[0;36mRunnableCallable.invoke\u001b[1;34m(self, input, config, **kwargs)\u001b[0m\n\u001b[0;32m    369\u001b[0m \u001b[38;5;28;01melse\u001b[39;00m:\n\u001b[0;32m    370\u001b[0m     \u001b[38;5;28;01mwith\u001b[39;00m set_config_context(config) \u001b[38;5;28;01mas\u001b[39;00m context:\n\u001b[1;32m--> 371\u001b[0m         ret \u001b[38;5;241m=\u001b[39m context\u001b[38;5;241m.\u001b[39mrun(\u001b[38;5;28mself\u001b[39m\u001b[38;5;241m.\u001b[39mfunc, \u001b[38;5;241m*\u001b[39margs, \u001b[38;5;241m*\u001b[39m\u001b[38;5;241m*\u001b[39mkwargs)\n\u001b[0;32m    372\u001b[0m \u001b[38;5;28;01mif\u001b[39;00m \u001b[38;5;28misinstance\u001b[39m(ret, Runnable) \u001b[38;5;129;01mand\u001b[39;00m \u001b[38;5;28mself\u001b[39m\u001b[38;5;241m.\u001b[39mrecurse:\n\u001b[0;32m    373\u001b[0m     \u001b[38;5;28;01mreturn\u001b[39;00m ret\u001b[38;5;241m.\u001b[39minvoke(\u001b[38;5;28minput\u001b[39m, config)\n",
      "File \u001b[1;32mc:\\Complete_Content\\GENERATIVEAI\\NEW_E2E_COURSE\\genai_bootcamp\\env\\lib\\site-packages\\langgraph\\graph\\branch.py:168\u001b[0m, in \u001b[0;36mBranch._route\u001b[1;34m(self, input, config, reader, writer)\u001b[0m\n\u001b[0;32m    166\u001b[0m     value \u001b[38;5;241m=\u001b[39m \u001b[38;5;28minput\u001b[39m\n\u001b[0;32m    167\u001b[0m result \u001b[38;5;241m=\u001b[39m \u001b[38;5;28mself\u001b[39m\u001b[38;5;241m.\u001b[39mpath\u001b[38;5;241m.\u001b[39minvoke(value, config)\n\u001b[1;32m--> 168\u001b[0m \u001b[38;5;28;01mreturn\u001b[39;00m \u001b[38;5;28;43mself\u001b[39;49m\u001b[38;5;241;43m.\u001b[39;49m\u001b[43m_finish\u001b[49m\u001b[43m(\u001b[49m\u001b[43mwriter\u001b[49m\u001b[43m,\u001b[49m\u001b[43m \u001b[49m\u001b[38;5;28;43minput\u001b[39;49m\u001b[43m,\u001b[49m\u001b[43m \u001b[49m\u001b[43mresult\u001b[49m\u001b[43m,\u001b[49m\u001b[43m \u001b[49m\u001b[43mconfig\u001b[49m\u001b[43m)\u001b[49m\n",
      "File \u001b[1;32mc:\\Complete_Content\\GENERATIVEAI\\NEW_E2E_COURSE\\genai_bootcamp\\env\\lib\\site-packages\\langgraph\\graph\\branch.py:207\u001b[0m, in \u001b[0;36mBranch._finish\u001b[1;34m(self, writer, input, result, config)\u001b[0m\n\u001b[0;32m    205\u001b[0m     result \u001b[38;5;241m=\u001b[39m [result]\n\u001b[0;32m    206\u001b[0m \u001b[38;5;28;01mif\u001b[39;00m \u001b[38;5;28mself\u001b[39m\u001b[38;5;241m.\u001b[39mends:\n\u001b[1;32m--> 207\u001b[0m     destinations: Sequence[Union[Send, \u001b[38;5;28mstr\u001b[39m]] \u001b[38;5;241m=\u001b[39m [\n\u001b[0;32m    208\u001b[0m         r \u001b[38;5;28;01mif\u001b[39;00m \u001b[38;5;28misinstance\u001b[39m(r, Send) \u001b[38;5;28;01melse\u001b[39;00m \u001b[38;5;28mself\u001b[39m\u001b[38;5;241m.\u001b[39mends[r] \u001b[38;5;28;01mfor\u001b[39;00m r \u001b[38;5;129;01min\u001b[39;00m result\n\u001b[0;32m    209\u001b[0m     ]\n\u001b[0;32m    210\u001b[0m \u001b[38;5;28;01melse\u001b[39;00m:\n\u001b[0;32m    211\u001b[0m     destinations \u001b[38;5;241m=\u001b[39m cast(Sequence[Union[Send, \u001b[38;5;28mstr\u001b[39m]], result)\n",
      "File \u001b[1;32mc:\\Complete_Content\\GENERATIVEAI\\NEW_E2E_COURSE\\genai_bootcamp\\env\\lib\\site-packages\\langgraph\\graph\\branch.py:208\u001b[0m, in \u001b[0;36m<listcomp>\u001b[1;34m(.0)\u001b[0m\n\u001b[0;32m    205\u001b[0m     result \u001b[38;5;241m=\u001b[39m [result]\n\u001b[0;32m    206\u001b[0m \u001b[38;5;28;01mif\u001b[39;00m \u001b[38;5;28mself\u001b[39m\u001b[38;5;241m.\u001b[39mends:\n\u001b[0;32m    207\u001b[0m     destinations: Sequence[Union[Send, \u001b[38;5;28mstr\u001b[39m]] \u001b[38;5;241m=\u001b[39m [\n\u001b[1;32m--> 208\u001b[0m         r \u001b[38;5;28;01mif\u001b[39;00m \u001b[38;5;28misinstance\u001b[39m(r, Send) \u001b[38;5;28;01melse\u001b[39;00m \u001b[38;5;28;43mself\u001b[39;49m\u001b[38;5;241;43m.\u001b[39;49m\u001b[43mends\u001b[49m\u001b[43m[\u001b[49m\u001b[43mr\u001b[49m\u001b[43m]\u001b[49m \u001b[38;5;28;01mfor\u001b[39;00m r \u001b[38;5;129;01min\u001b[39;00m result\n\u001b[0;32m    209\u001b[0m     ]\n\u001b[0;32m    210\u001b[0m \u001b[38;5;28;01melse\u001b[39;00m:\n\u001b[0;32m    211\u001b[0m     destinations \u001b[38;5;241m=\u001b[39m cast(Sequence[Union[Send, \u001b[38;5;28mstr\u001b[39m]], result)\n",
      "\u001b[1;31mKeyError\u001b[0m: None"
     ]
    }
   ],
   "source": [
    "app.invoke({\"messages\": [\"who is upcoming president of USA?\"]})"
   ]
  },
  {
   "cell_type": "code",
   "execution_count": null,
   "id": "4679352d",
   "metadata": {},
   "outputs": [],
   "source": []
  }
 ],
 "metadata": {
  "kernelspec": {
   "display_name": "Python 3",
   "language": "python",
   "name": "python3"
  },
  "language_info": {
   "codemirror_mode": {
    "name": "ipython",
    "version": 3
   },
   "file_extension": ".py",
   "mimetype": "text/x-python",
   "name": "python",
   "nbconvert_exporter": "python",
   "pygments_lexer": "ipython3",
   "version": "3.10.16"
  }
 },
 "nbformat": 4,
 "nbformat_minor": 5
}
